{
 "cells": [
  {
   "cell_type": "code",
   "execution_count": 1,
   "metadata": {
    "collapsed": true
   },
   "outputs": [],
   "source": [
    "from cbench.commands import *\n",
    "from cbench import state\n",
    "from plumbum.machines.paramiko_machine import ParamikoMachine\n",
    "from time import sleep\n",
    "import _thread"
   ]
  },
  {
   "cell_type": "code",
   "execution_count": null,
   "metadata": {
    "collapsed": true
   },
   "outputs": [],
   "source": [
    "state.RUN_NAME = \"Baseline_READ_MODIFY_WRITE_5_vs_m4.2xlarge_190\"\n",
    "state.WORKLOAD = \"workloads/workload_read_modify_write\"\n",
    "#state.WORKLOAD = \"workloads/workload_read\"\n",
    "#state.WORKLOAD = \"workloads/workload_scan\""
   ]
  },
  {
   "cell_type": "code",
   "execution_count": null,
   "metadata": {
    "collapsed": false
   },
   "outputs": [],
   "source": [
    "print(\"Instances:\")\n",
    "list_instances()\n",
    "print(\"Loading state from AWS..\")\n",
    "load_state()\n",
    "print(\"Cluster instances: {0}\".format(state.CLUSTER_INSTANCES))"
   ]
  },
  {
   "cell_type": "code",
   "execution_count": null,
   "metadata": {
    "collapsed": false
   },
   "outputs": [],
   "source": [
    "create_instances(5, state.CLUSTER_INSTANCES, type=\"i2.xlarge\")\n",
    "create_instances(1, state.YCSB_INSTANCES, 'ycsb', type=\"m4.2xlarge\")"
   ]
  },
  {
   "cell_type": "code",
   "execution_count": null,
   "metadata": {
    "collapsed": true
   },
   "outputs": [],
   "source": [
    "print(state.CLUSTER_INSTANCES)"
   ]
  },
  {
   "cell_type": "code",
   "execution_count": null,
   "metadata": {
    "collapsed": true
   },
   "outputs": [],
   "source": [
    "#Wait for Instances to finish boot\n",
    "sleep(5 * 60)"
   ]
  },
  {
   "cell_type": "code",
   "execution_count": null,
   "metadata": {
    "collapsed": false,
    "scrolled": true
   },
   "outputs": [],
   "source": [
    "# create the cluster\n",
    "create_cluster(state.CLUSTER_INSTANCES)"
   ]
  },
  {
   "cell_type": "code",
   "execution_count": null,
   "metadata": {
    "collapsed": false,
    "scrolled": true
   },
   "outputs": [],
   "source": [
    "prepare_benchmark(workload=state.WORKLOAD, name=state.RUN_NAME)"
   ]
  },
  {
   "cell_type": "code",
   "execution_count": null,
   "metadata": {
    "collapsed": true
   },
   "outputs": [],
   "source": [
    "temp = state.CLUSTER_INSTANCES[-1:]\n",
    "\n",
    "state.CLUSTER_INSTANCES = state.CLUSTER_INSTANCES[:-1]"
   ]
  },
  {
   "cell_type": "code",
   "execution_count": null,
   "metadata": {
    "collapsed": true
   },
   "outputs": [],
   "source": [
    "print(temp)"
   ]
  },
  {
   "cell_type": "code",
   "execution_count": null,
   "metadata": {
    "collapsed": true
   },
   "outputs": [],
   "source": [
    "state.CLUSTER_INSTANCES.append(temp[0])"
   ]
  },
  {
   "cell_type": "code",
   "execution_count": null,
   "metadata": {
    "collapsed": true
   },
   "outputs": [],
   "source": [
    "print(state.CLUSTER_INSTANCES)"
   ]
  },
  {
   "cell_type": "code",
   "execution_count": null,
   "metadata": {
    "collapsed": false,
    "scrolled": true
   },
   "outputs": [],
   "source": [
    "# Baseline benchmark\n",
    "bench = _thread.start_new_thread(start_benchmark, (190, [\"-p\",\"maxexecutiontime=300\"]))\n",
    "sleep(5 * 60)\n",
    "wait_for_finish()\n",
    "gather_results()"
   ]
  },
  {
   "cell_type": "code",
   "execution_count": null,
   "metadata": {
    "collapsed": false
   },
   "outputs": [],
   "source": [
    "plot(state.RUN_NAME, granularity=10)"
   ]
  },
  {
   "cell_type": "code",
   "execution_count": null,
   "metadata": {
    "collapsed": true
   },
   "outputs": [],
   "source": [
    "# Max Load benchmark\n",
    "for num in range(7):\n",
    "    num = 170 + num * 10\n",
    "    state.RUN_NAME = \"MAX_READ_AGAIN_6_vs_m4.2xlarge_\" + str(num)\n",
    "    bench = _thread.start_new_thread(start_benchmark, (num, [\"-p\",\"maxexecutiontime=300\"]))\n",
    "    sleep(5 * 60)\n",
    "    wait_for_finish()\n",
    "    gather_results()\n",
    "    # Wait for compaction etc. to finish\n",
    "    sleep(1 * 60)"
   ]
  },
  {
   "cell_type": "code",
   "execution_count": null,
   "metadata": {
    "collapsed": false
   },
   "outputs": [],
   "source": [
    "print(state.CLUSTER_INSTANCES)\n",
    "# Create additional instance\n",
    "create_instances(1, state.CLUSTER_INSTANCES, type=\"i2.xlarge\")\n",
    "print(\"New instance: {0}\".format(state.CLUSTER_INSTANCES[-1:]))"
   ]
  },
  {
   "cell_type": "code",
   "execution_count": null,
   "metadata": {
    "collapsed": true
   },
   "outputs": [],
   "source": [
    "scale_cluster(state.CLUSTER_INSTANCES[-1:])"
   ]
  },
  {
   "cell_type": "code",
   "execution_count": null,
   "metadata": {
    "collapsed": true
   },
   "outputs": [],
   "source": [
    "sleep(5)\n",
    "state.CLUSTER_INSTANCES.append(temp[0])"
   ]
  },
  {
   "cell_type": "code",
   "execution_count": null,
   "metadata": {
    "collapsed": false,
    "scrolled": true
   },
   "outputs": [],
   "source": [
    "# Scaling benchmark\n",
    "state.RUN_NAME = \"Scale_READ_MODIFY_WRITE_5_vs_m4.2xlarge_190\"\n",
    "bench = _thread.start_new_thread(start_benchmark, (190, []))\n",
    "sleep(3 * 60)\n",
    "scale_cluster(state.CLUSTER_INSTANCES[-1:])\n",
    "wait_for_finish()\n",
    "gather_results()"
   ]
  },
  {
   "cell_type": "code",
   "execution_count": null,
   "metadata": {
    "collapsed": true
   },
   "outputs": [],
   "source": [
    "# Giving the cluster a short pause\n",
    "sleep(2 * 60)"
   ]
  },
  {
   "cell_type": "code",
   "execution_count": null,
   "metadata": {
    "collapsed": false,
    "scrolled": true
   },
   "outputs": [],
   "source": [
    "#Reduce benchmark\n",
    "state.RUN_NAME = \"Reduce_READ_MODIFY_WRITE_5_vs_m4.2xlarge_190\"\n",
    "bench = _thread.start_new_thread(start_benchmark, (190, []))\n",
    "sleep(3 * 60)\n",
    "remove_cassandra_instance(state.CLUSTER_INSTANCES[-1])\n",
    "wait_for_finish()\n",
    "gather_results()"
   ]
  },
  {
   "cell_type": "code",
   "execution_count": null,
   "metadata": {
    "collapsed": false
   },
   "outputs": [],
   "source": [
    "#state.RUN_NAME = \"Reduce_READ_MODIFY_WRITE_4_vs_m4.2xlarge_100_2\"\n",
    "wait_for_finish()\n",
    "#gather_results()"
   ]
  },
  {
   "cell_type": "code",
   "execution_count": null,
   "metadata": {
    "collapsed": false
   },
   "outputs": [],
   "source": [
    "gather_results()"
   ]
  },
  {
   "cell_type": "code",
   "execution_count": null,
   "metadata": {
    "collapsed": true
   },
   "outputs": [],
   "source": [
    "cleanup_logs()"
   ]
  },
  {
   "cell_type": "code",
   "execution_count": null,
   "metadata": {
    "collapsed": false,
    "scrolled": true
   },
   "outputs": [],
   "source": [
    "terminate_all()"
   ]
  },
  {
   "cell_type": "code",
   "execution_count": 2,
   "metadata": {
    "collapsed": false,
    "scrolled": true
   },
   "outputs": [
    {
     "name": "stdout",
     "output_type": "stream",
     "text": [
      "WARNING: Could not match base data_point on line \"Scale_READ_MODIFY_WRITE_5_vs_m4.2xlarge_1902016-02-10 22:28:14:379 0 sec: 0 operations; est completion in 0 seconds \n",
      "\"\n",
      "WARNING: Could not match base data_point on line \"Reduce_READ_MODIFY_WRITE_5_vs_m4.2xlarge_1902016-02-10 22:50:47:254 0 sec: 0 operations; est completion in 0 seconds \n",
      "\"\n"
     ]
    }
   ],
   "source": [
    "plot(\"Scale_READ_MODIFY_WRITE_5_vs_m4.2xlarge_190\", granularity=30)\n",
    "plot(\"Reduce_READ_MODIFY_WRITE_5_vs_m4.2xlarge_190\", granularity=30)"
   ]
  },
  {
   "cell_type": "code",
   "execution_count": null,
   "metadata": {
    "collapsed": true
   },
   "outputs": [],
   "source": [
    "from cbench import util\n",
    "\n",
    "for inst in state.CLUSTER_INSTANCES:\n",
    "    util.docker_status(inst)"
   ]
  },
  {
   "cell_type": "code",
   "execution_count": null,
   "metadata": {
    "collapsed": false
   },
   "outputs": [],
   "source": [
    "print(\"Hello World!\")"
   ]
  }
 ],
 "metadata": {
  "kernelspec": {
   "display_name": "Python 3",
   "language": "python",
   "name": "python3"
  },
  "language_info": {
   "codemirror_mode": {
    "name": "ipython",
    "version": 3
   },
   "file_extension": ".py",
   "mimetype": "text/x-python",
   "name": "python",
   "nbconvert_exporter": "python",
   "pygments_lexer": "ipython3",
   "version": "3.5.0"
  }
 },
 "nbformat": 4,
 "nbformat_minor": 0
}
