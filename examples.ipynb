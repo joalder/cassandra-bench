{
 "cells": [
  {
   "cell_type": "code",
   "execution_count": 1,
   "metadata": {},
   "outputs": [],
   "source": [
    "from cbench.commands import *\n",
    "from cbench import state\n",
    "from plumbum.machines.paramiko_machine import ParamikoMachine"
   ]
  },
  {
   "cell_type": "code",
   "execution_count": 2,
   "metadata": {},
   "outputs": [
    {
     "name": "stdout",
     "output_type": "stream",
     "text": [
      "2015-12-31 15:10:13,622 INFO Start of 'load_state' args: () kwargs: {}\n"
     ]
    },
    {
     "name": "stdout",
     "output_type": "stream",
     "text": [
      "2015-12-31 15:10:13,829 INFO End of 'load_state'\n"
     ]
    }
   ],
   "source": [
    "list_instances()\n",
    "load_state()"
   ]
  },
  {
   "cell_type": "code",
   "execution_count": 3,
   "metadata": {},
   "outputs": [
    {
     "name": "stdout",
     "output_type": "stream",
     "text": [
      "2015-12-30 17:25:58,083 INFO Waiting for startup of i-700eb1cc..\n"
     ]
    },
    {
     "name": "stdout",
     "output_type": "stream",
     "text": [
      "2015-12-30 17:26:28,557 INFO Go for Green! State: {'Code': 0, 'Name': 'pending'}\n"
     ]
    },
    {
     "name": "stdout",
     "output_type": "stream",
     "text": [
      "2015-12-30 17:26:28,559 INFO Created instance with id: i-700eb1cc private ip: 172.31.17.207 public ip: None\n"
     ]
    },
    {
     "name": "stdout",
     "output_type": "stream",
     "text": [
      "2015-12-30 17:26:29,611 INFO Waiting for startup of i-ee0db252..\n"
     ]
    },
    {
     "name": "stdout",
     "output_type": "stream",
     "text": [
      "2015-12-30 17:26:59,984 INFO Go for Green! State: {'Code': 0, 'Name': 'pending'}\n"
     ]
    },
    {
     "name": "stdout",
     "output_type": "stream",
     "text": [
      "2015-12-30 17:26:59,986 INFO Created instance with id: i-ee0db252 private ip: 172.31.27.129 public ip: None\n"
     ]
    },
    {
     "name": "stdout",
     "output_type": "stream",
     "text": [
      "2015-12-30 17:27:00,746 INFO Waiting for startup of i-7c0eb1c0..\n"
     ]
    },
    {
     "name": "stdout",
     "output_type": "stream",
     "text": [
      "2015-12-30 17:27:31,205 INFO Go for Green! State: {'Code': 0, 'Name': 'pending'}\n"
     ]
    },
    {
     "name": "stdout",
     "output_type": "stream",
     "text": [
      "2015-12-30 17:27:31,207 INFO Created instance with id: i-7c0eb1c0 private ip: 172.31.16.121 public ip: None\n"
     ]
    },
    {
     "data": {
      "text/plain": [
       "[]"
      ]
     },
     "execution_count": 3,
     "output_type": "execute_result",
     "metadata": {}
    }
   ],
   "source": [
    "create_instances(2, state.CLUSTER_INSTANCES)\n",
    "create_instances(1, state.YCSB_INSTANCES, 'ycsb')"
   ]
  },
  {
   "cell_type": "code",
   "execution_count": 10,
   "metadata": {},
   "outputs": [
    {
     "name": "stdout",
     "output_type": "stream",
     "text": [
      "['i-ee0db252', 'i-700eb1cc']\n2015-12-30 17:46:32,255 INFO Waiting for startup of i-5a0db2e6.."
     ]
    },
    {
     "name": "stdout",
     "output_type": "stream",
     "text": [
      "\n"
     ]
    },
    {
     "name": "stdout",
     "output_type": "stream",
     "text": [
      "2015-12-30 17:47:17,806 INFO Go for Green! State: {'Code': 0, 'Name': 'pending'}\n"
     ]
    },
    {
     "name": "stdout",
     "output_type": "stream",
     "text": [
      "2015-12-30 17:47:17,809 INFO Created instance with id: i-5a0db2e6 private ip: 172.31.23.2 public ip: None\n"
     ]
    },
    {
     "data": {
      "text/plain": [
       "[]"
      ]
     },
     "execution_count": 10,
     "output_type": "execute_result",
     "metadata": {}
    }
   ],
   "source": [
    "print(state.CLUSTER_INSTANCES)\n",
    "# Create additional instance\n",
    "create_instances(1, state.CLUSTER_INSTANCES)"
   ]
  },
  {
   "cell_type": "code",
   "execution_count": 23,
   "metadata": {},
   "outputs": [
    {
     "name": "stdout",
     "output_type": "stream",
     "text": [
      "2015-12-30 18:41:28,836 INFO Checking instance 'i-5a0db2e6' state: {'Code': 16, 'Name': 'running'}\n"
     ]
    },
    {
     "name": "stdout",
     "output_type": "stream",
     "text": [
      "2015-12-30 18:41:28,837 INFO Connecting to 52.29.185.51\n"
     ]
    },
    {
     "name": "stdout",
     "output_type": "stream",
     "text": [
      "2015-12-30 18:41:28,964 INFO Connected (version 2.0, client OpenSSH_6.6.1p1)\n2015-12-30 18:41:29,255 INFO Authentication (publickey) successful!\n2015-12-30 18:41:30,374 INFO [chan 1] Opened sftp connection (server version 3)"
     ]
    },
    {
     "name": "stdout",
     "output_type": "stream",
     "text": [
      "\n"
     ]
    },
    {
     "name": "stdout",
     "output_type": "stream",
     "text": [
      "2015-12-30 18:41:30,995 INFO Command returned:\n"
     ]
    },
    {
     "name": "stdout",
     "output_type": "stream",
     "text": [
      "2015-12-30 18:41:30,997 INFO 038b2ead1c16dca34351eb2043547e1762521dfe9bdb614ed2d77d185ab320c1\n\n"
     ]
    },
    {
     "name": "stdout",
     "output_type": "stream",
     "text": [
      "2015-12-30 18:41:31,137 INFO Connected (version 2.0, client OpenSSH_6.6.1p1)\n2015-12-30 18:41:31,433 INFO Authentication (publickey) successful!\n2015-12-30 18:41:32,379 INFO [chan 1] Opened sftp connection (server version 3)"
     ]
    },
    {
     "name": "stdout",
     "output_type": "stream",
     "text": [
      "\n"
     ]
    },
    {
     "name": "stdout",
     "output_type": "stream",
     "text": [
      "2015-12-30 18:41:32,652 INFO Docker containers status:\n"
     ]
    },
    {
     "name": "stdout",
     "output_type": "stream",
     "text": [
      "2015-12-30 18:41:32,655 INFO CONTAINER ID        IMAGE               COMMAND                CREATED             STATUS              PORTS               NAMES\n038b2ead1c16        cassandra:2.2       \"/docker-entrypoint.   2 seconds ago       Up 1 seconds                            cassy               \n\n"
     ]
    }
   ],
   "source": [
    "from cbench import util\n",
    "util.run_cassandra('i-5a0db2e6')"
   ]
  },
  {
   "cell_type": "code",
   "execution_count": 8,
   "metadata": {},
   "outputs": [
    {
     "name": "stdout",
     "output_type": "stream",
     "text": [
      "2015-12-30 17:30:57,267 INFO Checking instance 'i-ee0db252' state: {'Code': 16, 'Name': 'running'}\n"
     ]
    },
    {
     "name": "stdout",
     "output_type": "stream",
     "text": [
      "2015-12-30 17:30:57,275 INFO Connecting to 52.29.134.49\n"
     ]
    },
    {
     "name": "stdout",
     "output_type": "stream",
     "text": [
      "2015-12-30 17:30:57,548 INFO Connected (version 2.0, client OpenSSH_6.6.1p1)\n2015-12-30 17:30:58,194 INFO Authentication (publickey) successful!\n2015-12-30 17:30:59,334 INFO [chan 1] Opened sftp connection (server version 3)"
     ]
    },
    {
     "name": "stdout",
     "output_type": "stream",
     "text": [
      "\n"
     ]
    },
    {
     "name": "stdout",
     "output_type": "stream",
     "text": [
      "2015-12-30 17:31:04,973 INFO Command returned:\n"
     ]
    },
    {
     "name": "stdout",
     "output_type": "stream",
     "text": [
      "2015-12-30 17:31:04,975 INFO 36d13656b00593b54ef0a83cbc3082492e1a1e11747df1b35c7427fb6fd41c8d\n\n"
     ]
    },
    {
     "name": "stdout",
     "output_type": "stream",
     "text": [
      "2015-12-30 17:31:05,121 INFO Connected (version 2.0, client OpenSSH_6.6.1p1)\n2015-12-30 17:31:05,412 INFO Authentication (publickey) successful!\n2015-12-30 17:31:06,293 INFO [chan 1] Opened sftp connection (server version 3)"
     ]
    },
    {
     "name": "stdout",
     "output_type": "stream",
     "text": [
      "\n"
     ]
    },
    {
     "name": "stdout",
     "output_type": "stream",
     "text": [
      "2015-12-30 17:31:06,524 INFO Docker containers status:\n"
     ]
    },
    {
     "name": "stdout",
     "output_type": "stream",
     "text": [
      "2015-12-30 17:31:06,526 INFO CONTAINER ID        IMAGE               COMMAND                CREATED             STATUS              PORTS               NAMES\n36d13656b005        cassandra:2.2       \"/docker-entrypoint.   7 seconds ago       Up 6 seconds                            cassy               \n\n"
     ]
    },
    {
     "name": "stdout",
     "output_type": "stream",
     "text": [
      "2015-12-30 17:31:06,704 INFO Checking instance 'i-700eb1cc' state: {'Code': 16, 'Name': 'running'}\n"
     ]
    },
    {
     "name": "stdout",
     "output_type": "stream",
     "text": [
      "2015-12-30 17:31:06,705 INFO Connecting to 52.29.198.123\n"
     ]
    },
    {
     "name": "stdout",
     "output_type": "stream",
     "text": [
      "2015-12-30 17:31:06,864 INFO Connected (version 2.0, client OpenSSH_6.6.1p1)\n2015-12-30 17:31:07,254 INFO Authentication (publickey) successful!\n2015-12-30 17:31:08,387 INFO [chan 1] Opened sftp connection (server version 3)"
     ]
    },
    {
     "name": "stdout",
     "output_type": "stream",
     "text": [
      "\n"
     ]
    },
    {
     "name": "stdout",
     "output_type": "stream",
     "text": [
      "2015-12-30 17:31:09,639 INFO Command returned:\n"
     ]
    },
    {
     "name": "stdout",
     "output_type": "stream",
     "text": [
      "2015-12-30 17:31:09,642 INFO cd183f4bc6336ee3221a2fb3b61e4cd376dad1a206d48cc63e0378d9583ded56\n\n"
     ]
    },
    {
     "name": "stdout",
     "output_type": "stream",
     "text": [
      "2015-12-30 17:31:09,784 INFO Connected (version 2.0, client OpenSSH_6.6.1p1)\n2015-12-30 17:31:10,067 INFO Authentication (publickey) successful!\n2015-12-30 17:31:10,950 INFO [chan 1] Opened sftp connection (server version 3)"
     ]
    },
    {
     "name": "stdout",
     "output_type": "stream",
     "text": [
      "\n"
     ]
    },
    {
     "name": "stdout",
     "output_type": "stream",
     "text": [
      "2015-12-30 17:31:11,259 INFO Docker containers status:\n"
     ]
    },
    {
     "name": "stdout",
     "output_type": "stream",
     "text": [
      "2015-12-30 17:31:11,262 INFO CONTAINER ID        IMAGE               COMMAND                CREATED             STATUS              PORTS               NAMES\ncd183f4bc633        cassandra:2.2       \"/docker-entrypoint.   2 seconds ago       Up 1 seconds                            cassy               \n\n"
     ]
    }
   ],
   "source": [
    "# create the cluster\n",
    "create_cluster(state.CLUSTER_INSTANCES)"
   ]
  },
  {
   "cell_type": "code",
   "execution_count": 9,
   "metadata": {},
   "outputs": [
    {
     "name": "stdout",
     "output_type": "stream",
     "text": [
      "2015-12-30 17:31:36,329 INFO Creating keyspace YCSB and table..\n"
     ]
    },
    {
     "name": "stdout",
     "output_type": "stream",
     "text": [
      "2015-12-30 17:31:36,482 INFO Connected (version 2.0, client OpenSSH_6.6.1p1)\n2015-12-30 17:31:36,775 INFO Authentication (publickey) successful!\n2015-12-30 17:31:37,687 INFO [chan 1] Opened sftp connection (server version 3)"
     ]
    },
    {
     "name": "stdout",
     "output_type": "stream",
     "text": [
      "\n"
     ]
    },
    {
     "name": "stdout",
     "output_type": "stream",
     "text": [
      "2015-12-30 17:31:39,898 INFO Result: \n"
     ]
    },
    {
     "name": "stdout",
     "output_type": "stream",
     "text": [
      "2015-12-30 17:31:39,953 INFO Loading YCSB data for workload 'workloads/workloada'\n"
     ]
    },
    {
     "name": "stdout",
     "output_type": "stream",
     "text": [
      "2015-12-30 17:31:40,133 INFO Connected (version 2.0, client OpenSSH_6.6.1p1)\n2015-12-30 17:31:40,459 INFO Authentication (publickey) successful!\n2015-12-30 17:33:57,552 INFO Result: YCSB Client 0.1\nCommand line: -db com.yahoo.ycsb.db.CassandraCQLClient -P workloads/workloada -p hosts=172.31.27.129,172.31.17.207 -p recordcount=100000 -load\nDatacenter: datacenter1; Host: /172.31.27.129; Rack: rack1\nDatacenter: datacenter1; Host: /172.31.17.207; Rack: rack1\n[OVERALL], RunTime(ms), 115478.0\n[OVERALL], Throughput(ops/sec), 865.9658116697552\n[CLEANUP], Operations, 1.0\n[CLEANUP], AverageLatency(us), 24136.0\n[CLEANUP], MinLatency(us), 24128.0\n[CLEANUP], MaxLatency(us), 24143.0\n[CLEANUP], 95thPercentileLatency(us), 24143.0\n[CLEANUP], 99thPercentileLatency(us), 24143.0\n[INSERT], Operations, 100000.0\n[INSERT], AverageLatency(us), 1141.93886\n[INSERT], MinLatency(us), 472.0\n[INSERT], MaxLatency(us), 305407.0\n[INSERT], 95thPercentileLatency(us), 1941.0\n[INSERT], 99thPercentileLatency(us), 5219.0\n[INSERT], Return=OK, 100000\n"
     ]
    },
    {
     "name": "stdout",
     "output_type": "stream",
     "text": [
      "\n"
     ]
    }
   ],
   "source": [
    "prepare_benchmark(add_args=[\"-p\", \"recordcount=100000\"])"
   ]
  },
  {
   "cell_type": "code",
   "execution_count": 19,
   "metadata": {},
   "outputs": [
    {
     "name": "stdout",
     "output_type": "stream",
     "text": [
      "2015-12-30 18:32:00,785 INFO Starting run '20151230171236' with workload 'workloads/workloada'\n"
     ]
    },
    {
     "data": {
      "text/plain": [
       "9316"
      ]
     },
     "execution_count": 19,
     "output_type": "execute_result",
     "metadata": {}
    }
   ],
   "source": [
    "import _thread\n",
    "\n",
    "bench = _thread.start_new_thread(start_benchmark, (4, [\"-p\", \"operationcount=10000000\"]))"
   ]
  },
  {
   "cell_type": "code",
   "execution_count": null,
   "metadata": {},
   "outputs": [],
   "source": [
    ""
   ]
  },
  {
   "cell_type": "code",
   "execution_count": 25,
   "metadata": {},
   "outputs": [
    {
     "name": "stdout",
     "output_type": "stream",
     "text": [
      "2015-12-30 18:48:32,147 INFO Connected (version 2.0, client OpenSSH_6.6.1p1)\n2015-12-30 18:48:32,472 INFO Authentication (publickey) successful!\n2015-12-30 18:48:33,353 INFO [chan 1] Opened sftp connection (server version 3)"
     ]
    },
    {
     "name": "stdout",
     "output_type": "stream",
     "text": [
      "\n"
     ]
    },
    {
     "ename": "ProcessExecutionError",
     "evalue": "Command line: ['cd', '/home/ubuntu', '&&', '/usr/bin/sudo', 'docker', 'exec', 'cassy', 'nodetool', 'decommission']\nExit code: 1\nStderr:  | time=\"2015-12-30T17:48:37Z\" level=fatal msg=\"Error response from daemon: Container cassy is not running\" ",
     "output_type": "error",
     "traceback": [
      "\u001b[1;31m---------------------------------------------------------------------------\u001b[0m",
      "\u001b[1;31mProcessExecutionError\u001b[0m                     Traceback (most recent call last)",
      "\u001b[1;32m<ipython-input-25-17a80d2bcec3>\u001b[0m in \u001b[0;36m<module>\u001b[1;34m()\u001b[0m\n\u001b[0;32m      4\u001b[0m \u001b[1;32mwith\u001b[0m \u001b[0mconnect\u001b[0m\u001b[1;33m(\u001b[0m\u001b[1;34m'i-5a0db2e6'\u001b[0m\u001b[1;33m)\u001b[0m \u001b[1;32mas\u001b[0m \u001b[0mremote\u001b[0m\u001b[1;33m:\u001b[0m\u001b[1;33m\u001b[0m\u001b[0m\n\u001b[0;32m      5\u001b[0m         \u001b[0mcmd\u001b[0m \u001b[1;33m=\u001b[0m \u001b[0mremote\u001b[0m\u001b[1;33m[\u001b[0m\u001b[1;34m\"sudo\"\u001b[0m\u001b[1;33m]\u001b[0m\u001b[1;33m\u001b[0m\u001b[0m\n\u001b[1;32m----> 6\u001b[1;33m         \u001b[0mret\u001b[0m \u001b[1;33m=\u001b[0m \u001b[0mcmd\u001b[0m\u001b[1;33m(\u001b[0m\u001b[1;34m\"docker\"\u001b[0m\u001b[1;33m,\u001b[0m \u001b[1;34m\"exec\"\u001b[0m\u001b[1;33m,\u001b[0m \u001b[1;34m\"cassy\"\u001b[0m\u001b[1;33m,\u001b[0m \u001b[1;34m\"nodetool\"\u001b[0m\u001b[1;33m,\u001b[0m \u001b[1;34m\"decommission\"\u001b[0m\u001b[1;33m)\u001b[0m\u001b[1;33m\u001b[0m\u001b[0m\n\u001b[0m\u001b[0;32m      7\u001b[0m \u001b[1;33m\u001b[0m\u001b[0m\n\u001b[0;32m      8\u001b[0m         \u001b[0mlog\u001b[0m\u001b[1;33m.\u001b[0m\u001b[0minfo\u001b[0m\u001b[1;33m(\u001b[0m\u001b[1;34m\"Nodetool decomissioning returned: {0}\"\u001b[0m\u001b[1;33m.\u001b[0m\u001b[0mformat\u001b[0m\u001b[1;33m(\u001b[0m\u001b[0mret\u001b[0m\u001b[1;33m)\u001b[0m\u001b[1;33m)\u001b[0m\u001b[1;33m\u001b[0m\u001b[0m\n",
      "\u001b[1;32mC:\\Users\\Jonas\\venvBT\\lib\\site-packages\\plumbum\\commands\\base.py\u001b[0m in \u001b[0;36m__call__\u001b[1;34m(self, *args, **kwargs)\u001b[0m\n\u001b[0;32m     87\u001b[0m     \u001b[1;32mdef\u001b[0m \u001b[0m__call__\u001b[0m\u001b[1;33m(\u001b[0m\u001b[0mself\u001b[0m\u001b[1;33m,\u001b[0m \u001b[1;33m*\u001b[0m\u001b[0margs\u001b[0m\u001b[1;33m,\u001b[0m \u001b[1;33m**\u001b[0m\u001b[0mkwargs\u001b[0m\u001b[1;33m)\u001b[0m\u001b[1;33m:\u001b[0m\u001b[1;33m\u001b[0m\u001b[0m\n\u001b[0;32m     88\u001b[0m         \u001b[1;34m\"\"\"A shortcut for `run(args)`, returning only the process' stdout\"\"\"\u001b[0m\u001b[1;33m\u001b[0m\u001b[0m\n\u001b[1;32m---> 89\u001b[1;33m         \u001b[1;32mreturn\u001b[0m \u001b[0mself\u001b[0m\u001b[1;33m.\u001b[0m\u001b[0mrun\u001b[0m\u001b[1;33m(\u001b[0m\u001b[0margs\u001b[0m\u001b[1;33m,\u001b[0m \u001b[1;33m**\u001b[0m\u001b[0mkwargs\u001b[0m\u001b[1;33m)\u001b[0m\u001b[1;33m[\u001b[0m\u001b[1;36m1\u001b[0m\u001b[1;33m]\u001b[0m\u001b[1;33m\u001b[0m\u001b[0m\n\u001b[0m\u001b[0;32m     90\u001b[0m \u001b[1;33m\u001b[0m\u001b[0m\n\u001b[0;32m     91\u001b[0m     \u001b[1;32mdef\u001b[0m \u001b[0m_get_encoding\u001b[0m\u001b[1;33m(\u001b[0m\u001b[0mself\u001b[0m\u001b[1;33m)\u001b[0m\u001b[1;33m:\u001b[0m\u001b[1;33m\u001b[0m\u001b[0m\n",
      "\u001b[1;32mC:\\Users\\Jonas\\venvBT\\lib\\site-packages\\plumbum\\commands\\base.py\u001b[0m in \u001b[0;36mrun\u001b[1;34m(self, args, **kwargs)\u001b[0m\n\u001b[0;32m    217\u001b[0m         \"\"\"\n\u001b[0;32m    218\u001b[0m         \u001b[1;32mwith\u001b[0m \u001b[0mself\u001b[0m\u001b[1;33m.\u001b[0m\u001b[0mbgrun\u001b[0m\u001b[1;33m(\u001b[0m\u001b[0margs\u001b[0m\u001b[1;33m,\u001b[0m \u001b[1;33m**\u001b[0m\u001b[0mkwargs\u001b[0m\u001b[1;33m)\u001b[0m \u001b[1;32mas\u001b[0m \u001b[0mp\u001b[0m\u001b[1;33m:\u001b[0m\u001b[1;33m\u001b[0m\u001b[0m\n\u001b[1;32m--> 219\u001b[1;33m             \u001b[1;32mreturn\u001b[0m \u001b[0mp\u001b[0m\u001b[1;33m.\u001b[0m\u001b[0mrun\u001b[0m\u001b[1;33m(\u001b[0m\u001b[1;33m)\u001b[0m\u001b[1;33m\u001b[0m\u001b[0m\n\u001b[0m\u001b[0;32m    220\u001b[0m \u001b[1;33m\u001b[0m\u001b[0m\n\u001b[0;32m    221\u001b[0m \u001b[1;33m\u001b[0m\u001b[0m\n",
      "\u001b[1;32mC:\\Users\\Jonas\\venvBT\\lib\\site-packages\\plumbum\\commands\\base.py\u001b[0m in \u001b[0;36mrunner\u001b[1;34m()\u001b[0m\n\u001b[0;32m    179\u001b[0m             \u001b[0mwas_run\u001b[0m\u001b[1;33m[\u001b[0m\u001b[1;36m0\u001b[0m\u001b[1;33m]\u001b[0m \u001b[1;33m=\u001b[0m \u001b[1;32mTrue\u001b[0m\u001b[1;33m\u001b[0m\u001b[0m\n\u001b[0;32m    180\u001b[0m             \u001b[1;32mtry\u001b[0m\u001b[1;33m:\u001b[0m\u001b[1;33m\u001b[0m\u001b[0m\n\u001b[1;32m--> 181\u001b[1;33m                 \u001b[1;32mreturn\u001b[0m \u001b[0mrun_proc\u001b[0m\u001b[1;33m(\u001b[0m\u001b[0mp\u001b[0m\u001b[1;33m,\u001b[0m \u001b[0mretcode\u001b[0m\u001b[1;33m,\u001b[0m \u001b[0mtimeout\u001b[0m\u001b[1;33m)\u001b[0m\u001b[1;33m\u001b[0m\u001b[0m\n\u001b[0m\u001b[0;32m    182\u001b[0m             \u001b[1;32mfinally\u001b[0m\u001b[1;33m:\u001b[0m\u001b[1;33m\u001b[0m\u001b[0m\n\u001b[0;32m    183\u001b[0m                 \u001b[1;32mdel\u001b[0m \u001b[0mp\u001b[0m\u001b[1;33m.\u001b[0m\u001b[0mrun\u001b[0m  \u001b[1;31m# to break cyclic reference p -> cell -> p\u001b[0m\u001b[1;33m\u001b[0m\u001b[0m\n",
      "\u001b[1;32mC:\\Users\\Jonas\\venvBT\\lib\\site-packages\\plumbum\\commands\\processes.py\u001b[0m in \u001b[0;36mrun_proc\u001b[1;34m(proc, retcode, timeout)\u001b[0m\n\u001b[0;32m    215\u001b[0m         \u001b[0mstderr\u001b[0m \u001b[1;33m=\u001b[0m \u001b[0mstderr\u001b[0m\u001b[1;33m.\u001b[0m\u001b[0mdecode\u001b[0m\u001b[1;33m(\u001b[0m\u001b[0mproc\u001b[0m\u001b[1;33m.\u001b[0m\u001b[0mencoding\u001b[0m\u001b[1;33m,\u001b[0m \u001b[1;34m\"ignore\"\u001b[0m\u001b[1;33m)\u001b[0m\u001b[1;33m\u001b[0m\u001b[0m\n\u001b[0;32m    216\u001b[0m \u001b[1;33m\u001b[0m\u001b[0m\n\u001b[1;32m--> 217\u001b[1;33m     \u001b[1;32mreturn\u001b[0m \u001b[0m_check_process\u001b[0m\u001b[1;33m(\u001b[0m\u001b[0mproc\u001b[0m\u001b[1;33m,\u001b[0m \u001b[0mretcode\u001b[0m\u001b[1;33m,\u001b[0m \u001b[0mtimeout\u001b[0m\u001b[1;33m,\u001b[0m \u001b[0mstdout\u001b[0m\u001b[1;33m,\u001b[0m \u001b[0mstderr\u001b[0m\u001b[1;33m)\u001b[0m\u001b[1;33m\u001b[0m\u001b[0m\n\u001b[0m\u001b[0;32m    218\u001b[0m \u001b[1;33m\u001b[0m\u001b[0m\n\u001b[0;32m    219\u001b[0m \u001b[1;33m\u001b[0m\u001b[0m\n",
      "\u001b[1;32mC:\\Users\\Jonas\\venvBT\\lib\\site-packages\\plumbum\\commands\\processes.py\u001b[0m in \u001b[0;36m_check_process\u001b[1;34m(proc, retcode, timeout, stdout, stderr)\u001b[0m\n\u001b[0;32m     32\u001b[0m         \u001b[1;32melif\u001b[0m \u001b[0mproc\u001b[0m\u001b[1;33m.\u001b[0m\u001b[0mreturncode\u001b[0m \u001b[1;33m!=\u001b[0m \u001b[0mretcode\u001b[0m\u001b[1;33m:\u001b[0m\u001b[1;33m\u001b[0m\u001b[0m\n\u001b[0;32m     33\u001b[0m             raise ProcessExecutionError(getattr(proc, \"argv\", None), proc.returncode,\n\u001b[1;32m---> 34\u001b[1;33m                 stdout, stderr)\n\u001b[0m\u001b[0;32m     35\u001b[0m     \u001b[1;32mreturn\u001b[0m \u001b[0mproc\u001b[0m\u001b[1;33m.\u001b[0m\u001b[0mreturncode\u001b[0m\u001b[1;33m,\u001b[0m \u001b[0mstdout\u001b[0m\u001b[1;33m,\u001b[0m \u001b[0mstderr\u001b[0m\u001b[1;33m\u001b[0m\u001b[0m\n\u001b[0;32m     36\u001b[0m \u001b[1;33m\u001b[0m\u001b[0m\n",
      "\u001b[1;31mProcessExecutionError\u001b[0m: Command line: ['cd', '/home/ubuntu', '&&', '/usr/bin/sudo', 'docker', 'exec', 'cassy', 'nodetool', 'decommission']\nExit code: 1\nStderr:  | time=\"2015-12-30T17:48:37Z\" level=fatal msg=\"Error response from daemon: Container cassy is not running\" "
     ]
    }
   ],
   "source": [
    "#remove_cassandra_instance(state.CLUSTER_INSTANCES[-1])\n",
    "from cbench.util import connect\n",
    "\n",
    "with connect('i-5a0db2e6') as remote:\n",
    "        cmd = remote[\"sudo\"]\n",
    "        ret = cmd(\"docker\", \"exec\", \"cassy\", \"nodetool\", \"decommission\")\n",
    "\n",
    "        log.info(\"Nodetool decomissioning returned: {0}\".format(ret))"
   ]
  },
  {
   "cell_type": "code",
   "execution_count": 11,
   "metadata": {},
   "outputs": [],
   "source": [
    "import os\n",
    "os.getcwd()\n",
    "os.makedirs(\"C:\\\\Users\\\\Jonas\\\\PycharmProjects\\\\cassandra-bench\\\\results\\\\20151227171214\")"
   ]
  },
  {
   "cell_type": "code",
   "execution_count": 18,
   "metadata": {},
   "outputs": [
    {
     "name": "stdout",
     "output_type": "stream",
     "text": [
      "2015-12-30 18:20:51,113 INFO Connected (version 2.0, client OpenSSH_6.6.1p1)\n2015-12-30 18:20:51,412 INFO Authentication (publickey) successful!\n2015-12-30 18:20:52,316 INFO [chan 1] Opened sftp connection (server version 3)"
     ]
    },
    {
     "name": "stdout",
     "output_type": "stream",
     "text": [
      "\n"
     ]
    },
    {
     "name": "stdout",
     "output_type": "stream",
     "text": [
      "2015-12-30 18:20:52,707 INFO No more YCSB running!\n"
     ]
    }
   ],
   "source": [
    "wait_for_finish()"
   ]
  },
  {
   "cell_type": "code",
   "execution_count": 26,
   "metadata": {},
   "outputs": [
    {
     "name": "stdout",
     "output_type": "stream",
     "text": [
      "2015-12-30 18:54:05,030 INFO Gathering results into 'C:\\Users\\Jonas\\PycharmProjects\\cassandra-bench\\results\\20151230171236'\n"
     ]
    },
    {
     "name": "stdout",
     "output_type": "stream",
     "text": [
      "2015-12-30 18:54:05,360 INFO Connected (version 2.0, client OpenSSH_6.6.1p1)\n2015-12-30 18:54:05,678 INFO Authentication (publickey) successful!\n2015-12-30 18:54:07,091 INFO [chan 1] Opened sftp connection (server version 3)"
     ]
    },
    {
     "name": "stdout",
     "output_type": "stream",
     "text": [
      "\n"
     ]
    },
    {
     "name": "stdout",
     "output_type": "stream",
     "text": [
      "2015-12-30 18:54:07,641 INFO Connected (version 2.0, client OpenSSH_6.6.1p1)\n2015-12-30 18:54:07,982 INFO Authentication (publickey) successful!\n2015-12-30 18:54:08,953 INFO [chan 1] Opened sftp connection (server version 3)"
     ]
    },
    {
     "name": "stdout",
     "output_type": "stream",
     "text": [
      "\n"
     ]
    },
    {
     "name": "stdout",
     "output_type": "stream",
     "text": [
      "2015-12-30 18:54:10,328 INFO Connected (version 2.0, client OpenSSH_6.6.1p1)\n2015-12-30 18:54:10,724 INFO Authentication (publickey) successful!\n2015-12-30 18:54:11,609 INFO [chan 1] Opened sftp connection (server version 3)"
     ]
    },
    {
     "name": "stdout",
     "output_type": "stream",
     "text": [
      "\n"
     ]
    },
    {
     "name": "stderr",
     "output_type": "stream",
     "text": [
      "Unhandled exception in thread started by <function start_benchmark at 0x000002554CCC9C80>\n"
     ]
    }
   ],
   "source": [
    "gather_results()"
   ]
  },
  {
   "cell_type": "code",
   "execution_count": 27,
   "metadata": {},
   "outputs": [
    {
     "name": "stdout",
     "output_type": "stream",
     "text": [
      "2015-12-30 18:54:38,941 WARNING Going to terminate instance 'i-ee0db252'\n"
     ]
    },
    {
     "name": "stdout",
     "output_type": "stream",
     "text": [
      "2015-12-30 18:54:39,413 WARNING Going to terminate instance 'i-700eb1cc'\n"
     ]
    },
    {
     "name": "stdout",
     "output_type": "stream",
     "text": [
      "2015-12-30 18:54:39,655 WARNING Going to terminate instance 'i-7c0eb1c0'\n"
     ]
    }
   ],
   "source": [
    "terminate_all()"
   ]
  }
 ],
 "metadata": {},
 "nbformat": 4,
 "nbformat_minor": 0
}