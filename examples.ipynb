{
 "cells": [
  {
   "cell_type": "code",
   "execution_count": 1,
   "metadata": {
    "collapsed": true
   },
   "outputs": [],
   "source": [
    "from cbench.commands import *\n",
    "from cbench import state\n",
    "from plumbum.machines.paramiko_machine import ParamikoMachine\n",
    "from time import sleep\n",
    "import _thread"
   ]
  },
  {
   "cell_type": "code",
   "execution_count": 2,
   "metadata": {
    "collapsed": true
   },
   "outputs": [],
   "source": [
    "state.RUN_NAME = \"MAX_READ_6_vs_m4.2xlarge_180\"\n",
    "#state.WORKLOAD = \"workloads/workload_read_modify_write\"\n",
    "state.WORKLOAD = \"workloads/workload_read\"\n",
    "#state.WORKLOAD = \"workloads/workload_scan\""
   ]
  },
  {
   "cell_type": "code",
   "execution_count": null,
   "metadata": {
    "collapsed": false
   },
   "outputs": [],
   "source": [
    "print(\"Instances:\")\n",
    "list_instances()\n",
    "print(\"Loading state from AWS..\")\n",
    "load_state()\n",
    "print(\"Cluster instances: {0}\".format(state.CLUSTER_INSTANCES))"
   ]
  },
  {
   "cell_type": "code",
   "execution_count": 3,
   "metadata": {
    "collapsed": false
   },
   "outputs": [
    {
     "name": "stdout",
     "output_type": "stream",
     "text": [
      "2016-02-09 15:05:11,876 INFO Run MAX_READ_6_vs_m4.2xlarge_180 start of 'create_instances' args: (6, []) kwargs: {'type': 'i2.xlarge'}\n",
      "2016-02-09 15:05:13,727 INFO Created instance with id: i-419d10fd private ip: 172.31.16.165 public ip: None\n",
      "2016-02-09 15:05:14,403 INFO Created instance with id: i-1d9c11a1 private ip: 172.31.26.136 public ip: None\n",
      "2016-02-09 15:05:15,022 INFO Created instance with id: i-393ceb84 private ip: 172.31.4.167 public ip: None\n",
      "2016-02-09 15:05:15,642 INFO Created instance with id: i-759c11c9 private ip: 172.31.27.251 public ip: None\n",
      "2016-02-09 15:05:16,359 INFO Created instance with id: i-fd3ceb40 private ip: 172.31.6.145 public ip: None\n",
      "2016-02-09 15:05:16,957 INFO Created instance with id: i-769c11ca private ip: 172.31.17.77 public ip: None\n",
      "2016-02-09 15:05:16,958 INFO Run MAX_READ_6_vs_m4.2xlarge_180 end of 'create_instances'\n",
      "2016-02-09 15:05:16,960 INFO Run MAX_READ_6_vs_m4.2xlarge_180 start of 'create_instances' args: (1, [], 'ycsb') kwargs: {'type': 'm4.2xlarge'}\n",
      "2016-02-09 15:05:17,630 INFO Created instance with id: i-779c11cb private ip: 172.31.28.69 public ip: None\n",
      "2016-02-09 15:05:17,632 INFO Run MAX_READ_6_vs_m4.2xlarge_180 end of 'create_instances'\n"
     ]
    }
   ],
   "source": [
    "create_instances(6, state.CLUSTER_INSTANCES, type=\"i2.xlarge\")\n",
    "create_instances(1, state.YCSB_INSTANCES, 'ycsb', type=\"m4.2xlarge\")"
   ]
  },
  {
   "cell_type": "code",
   "execution_count": null,
   "metadata": {
    "collapsed": false
   },
   "outputs": [],
   "source": [
    "print(state.CLUSTER_INSTANCES)"
   ]
  },
  {
   "cell_type": "code",
   "execution_count": 4,
   "metadata": {
    "collapsed": true
   },
   "outputs": [],
   "source": [
    "#Wait for Instances to finish boot\n",
    "sleep(5 * 60)"
   ]
  },
  {
   "cell_type": "code",
   "execution_count": 5,
   "metadata": {
    "collapsed": false,
    "scrolled": true
   },
   "outputs": [
    {
     "name": "stdout",
     "output_type": "stream",
     "text": [
      "2016-02-09 15:10:17,644 INFO Run MAX_READ_6_vs_m4.2xlarge_180 start of 'create_cluster' args: (['i-419d10fd', 'i-1d9c11a1', 'i-393ceb84', 'i-759c11c9', 'i-fd3ceb40', 'i-769c11ca'],) kwargs: {}\n",
      "2016-02-09 15:10:18,119 INFO Checking instance 'i-419d10fd' state: {'Name': 'running', 'Code': 16}\n",
      "2016-02-09 15:10:18,120 INFO Connecting to 52.29.233.100\n",
      "2016-02-09 15:10:18,256 INFO Connected (version 2.0, client OpenSSH_6.6.1p1)\n",
      "2016-02-09 15:10:18,591 INFO Authentication (publickey) successful!\n",
      "2016-02-09 15:10:20,100 INFO [chan 1] Opened sftp connection (server version 3)\n",
      "2016-02-09 15:10:20,897 INFO Going to wait for 5 seconds for startup or bootstrap to finish\n",
      "2016-02-09 15:10:25,899 INFO Command returned:\n",
      "2016-02-09 15:10:25,900 INFO 350aa611413ca910be81598cf334a6dadec89be7fd4dac9c448d299f3bc4d6cc\n",
      "\n",
      "2016-02-09 15:10:26,026 INFO Connected (version 2.0, client OpenSSH_6.6.1p1)\n",
      "2016-02-09 15:10:26,316 INFO Authentication (publickey) successful!\n",
      "2016-02-09 15:10:27,215 INFO [chan 1] Opened sftp connection (server version 3)\n",
      "2016-02-09 15:10:27,463 INFO Docker containers status:\n",
      "2016-02-09 15:10:27,464 INFO CONTAINER ID        IMAGE               COMMAND                CREATED             STATUS              PORTS               NAMES\n",
      "350aa611413c        cassandra:2.2       \"/docker-entrypoint.   7 seconds ago       Up 6 seconds                            cassy               \n",
      "\n",
      "2016-02-09 15:10:27,638 INFO Checking instance 'i-1d9c11a1' state: {'Name': 'running', 'Code': 16}\n",
      "2016-02-09 15:10:27,638 INFO Connecting to 52.29.226.84\n",
      "2016-02-09 15:10:27,790 INFO Connected (version 2.0, client OpenSSH_6.6.1p1)\n",
      "2016-02-09 15:10:28,089 INFO Authentication (publickey) successful!\n",
      "2016-02-09 15:10:29,011 INFO [chan 1] Opened sftp connection (server version 3)\n",
      "2016-02-09 15:10:29,524 INFO Going to wait for 60 seconds for startup or bootstrap to finish\n",
      "2016-02-09 15:11:29,526 INFO Command returned:\n",
      "2016-02-09 15:11:29,526 INFO 5697ca09ffad9b6ebd76432cc3cfd2a49a2f5be1adf4a54fb5d8b61621d150eb\n",
      "\n",
      "2016-02-09 15:11:29,651 INFO Connected (version 2.0, client OpenSSH_6.6.1p1)\n",
      "2016-02-09 15:11:29,916 INFO Authentication (publickey) successful!\n",
      "2016-02-09 15:11:30,784 INFO [chan 1] Opened sftp connection (server version 3)\n",
      "2016-02-09 15:11:31,018 INFO Docker containers status:\n",
      "2016-02-09 15:11:31,020 INFO CONTAINER ID        IMAGE               COMMAND                CREATED              STATUS              PORTS               NAMES\n",
      "5697ca09ffad        cassandra:2.2       \"/docker-entrypoint.   About a minute ago   Up About a minute                       cassy               \n",
      "\n",
      "2016-02-09 15:11:31,197 INFO Checking instance 'i-393ceb84' state: {'Name': 'running', 'Code': 16}\n",
      "2016-02-09 15:11:31,199 INFO Connecting to 52.29.123.72\n",
      "2016-02-09 15:11:31,317 INFO Connected (version 2.0, client OpenSSH_6.6.1p1)\n",
      "2016-02-09 15:11:31,952 INFO Authentication (publickey) successful!\n",
      "2016-02-09 15:11:33,125 INFO [chan 1] Opened sftp connection (server version 3)\n",
      "2016-02-09 15:11:33,602 INFO Going to wait for 60 seconds for startup or bootstrap to finish\n",
      "2016-02-09 15:12:33,603 INFO Command returned:\n",
      "2016-02-09 15:12:33,604 INFO 5e5dfd6a4baa85bceb6310e7567ed97ea9d10d904dc96bfbc47fc4d782d2a4db\n",
      "\n",
      "2016-02-09 15:12:33,719 INFO Connected (version 2.0, client OpenSSH_6.6.1p1)\n",
      "2016-02-09 15:12:33,931 INFO Authentication (publickey) successful!\n",
      "2016-02-09 15:12:34,754 INFO [chan 1] Opened sftp connection (server version 3)\n",
      "2016-02-09 15:12:35,019 INFO Docker containers status:\n",
      "2016-02-09 15:12:35,019 INFO CONTAINER ID        IMAGE               COMMAND                CREATED              STATUS              PORTS               NAMES\n",
      "5e5dfd6a4baa        cassandra:2.2       \"/docker-entrypoint.   About a minute ago   Up About a minute                       cassy               \n",
      "\n",
      "2016-02-09 15:12:35,210 INFO Checking instance 'i-759c11c9' state: {'Name': 'running', 'Code': 16}\n",
      "2016-02-09 15:12:35,210 INFO Connecting to 52.29.199.186\n",
      "2016-02-09 15:12:35,335 INFO Connected (version 2.0, client OpenSSH_6.6.1p1)\n",
      "2016-02-09 15:12:35,559 INFO Authentication (publickey) successful!\n",
      "2016-02-09 15:12:36,421 INFO [chan 1] Opened sftp connection (server version 3)\n",
      "2016-02-09 15:12:36,874 INFO Going to wait for 60 seconds for startup or bootstrap to finish\n",
      "2016-02-09 15:13:36,875 INFO Command returned:\n",
      "2016-02-09 15:13:36,875 INFO 198a73ff4c56b0cc44e9d4b02e5c43b33a3891bbe45749bba21c4b94dc7ffcf4\n",
      "\n",
      "2016-02-09 15:13:37,048 INFO Connected (version 2.0, client OpenSSH_6.6.1p1)\n",
      "2016-02-09 15:13:37,288 INFO Authentication (publickey) successful!\n",
      "2016-02-09 15:13:38,092 INFO [chan 1] Opened sftp connection (server version 3)\n",
      "2016-02-09 15:13:38,325 INFO Docker containers status:\n",
      "2016-02-09 15:13:38,326 INFO CONTAINER ID        IMAGE               COMMAND                CREATED              STATUS              PORTS               NAMES\n",
      "198a73ff4c56        cassandra:2.2       \"/docker-entrypoint.   About a minute ago   Up About a minute                       cassy               \n",
      "\n",
      "2016-02-09 15:13:38,491 INFO Checking instance 'i-fd3ceb40' state: {'Name': 'running', 'Code': 16}\n",
      "2016-02-09 15:13:38,491 INFO Connecting to 52.29.130.234\n",
      "2016-02-09 15:13:38,609 INFO Connected (version 2.0, client OpenSSH_6.6.1p1)\n",
      "2016-02-09 15:13:39,028 INFO Authentication (publickey) successful!\n",
      "2016-02-09 15:13:39,815 INFO [chan 1] Opened sftp connection (server version 3)\n",
      "2016-02-09 15:13:40,237 INFO Going to wait for 60 seconds for startup or bootstrap to finish\n",
      "2016-02-09 15:14:40,238 INFO Command returned:\n",
      "2016-02-09 15:14:40,238 INFO 3927cf6534c9af014e35512ab4e09a72e37f9a6783fbbc351a878a80045af029\n",
      "\n",
      "2016-02-09 15:14:40,539 INFO Connected (version 2.0, client OpenSSH_6.6.1p1)\n",
      "2016-02-09 15:14:41,178 INFO Authentication (publickey) successful!\n",
      "2016-02-09 15:14:43,953 INFO [chan 1] Opened sftp connection (server version 3)\n",
      "2016-02-09 15:14:44,416 INFO Docker containers status:\n",
      "2016-02-09 15:14:44,417 INFO CONTAINER ID        IMAGE               COMMAND                CREATED              STATUS              PORTS               NAMES\n",
      "3927cf6534c9        cassandra:2.2       \"/docker-entrypoint.   About a minute ago   Up About a minute                       cassy               \n",
      "\n",
      "2016-02-09 15:14:44,582 INFO Checking instance 'i-769c11ca' state: {'Name': 'running', 'Code': 16}\n",
      "2016-02-09 15:14:44,583 INFO Connecting to 52.29.191.31\n",
      "2016-02-09 15:14:44,829 INFO Connected (version 2.0, client OpenSSH_6.6.1p1)\n",
      "2016-02-09 15:14:45,315 INFO Authentication (publickey) successful!\n",
      "2016-02-09 15:14:47,784 INFO [chan 1] Opened sftp connection (server version 3)\n",
      "2016-02-09 15:14:48,630 INFO Going to wait for 60 seconds for startup or bootstrap to finish\n",
      "2016-02-09 15:15:48,630 INFO Command returned:\n",
      "2016-02-09 15:15:48,631 INFO 3e85114b38c9b4dc0f26265e2079c1df90caf5c143ac833d5fda5690432683fe\n",
      "\n",
      "2016-02-09 15:15:48,756 INFO Connected (version 2.0, client OpenSSH_6.6.1p1)\n",
      "2016-02-09 15:15:49,009 INFO Authentication (publickey) successful!\n",
      "2016-02-09 15:15:50,446 INFO [chan 1] Opened sftp connection (server version 3)\n",
      "2016-02-09 15:15:50,679 INFO Docker containers status:\n",
      "2016-02-09 15:15:50,679 INFO CONTAINER ID        IMAGE               COMMAND                CREATED              STATUS              PORTS               NAMES\n",
      "3e85114b38c9        cassandra:2.2       \"/docker-entrypoint.   About a minute ago   Up About a minute                       cassy               \n",
      "\n",
      "2016-02-09 15:15:50,730 INFO Run MAX_READ_6_vs_m4.2xlarge_180 end of 'create_cluster'\n"
     ]
    }
   ],
   "source": [
    "# create the cluster\n",
    "create_cluster(state.CLUSTER_INSTANCES)"
   ]
  },
  {
   "cell_type": "code",
   "execution_count": 6,
   "metadata": {
    "collapsed": false
   },
   "outputs": [
    {
     "name": "stdout",
     "output_type": "stream",
     "text": [
      "2016-02-09 15:15:50,738 INFO Run MAX_READ_6_vs_m4.2xlarge_180 start of 'prepare_benchmark' args: () kwargs: {'workload': 'workloads/workload_read', 'name': 'MAX_READ_6_vs_m4.2xlarge_180'}\n",
      "2016-02-09 15:15:50,738 INFO Creating keyspace YCSB and table..\n",
      "2016-02-09 15:15:50,894 INFO Connected (version 2.0, client OpenSSH_6.6.1p1)\n",
      "2016-02-09 15:15:51,151 INFO Authentication (publickey) successful!\n",
      "2016-02-09 15:15:51,941 INFO [chan 1] Opened sftp connection (server version 3)\n",
      "2016-02-09 15:15:56,702 INFO Result: \n",
      "2016-02-09 15:15:56,753 INFO Loading YCSB data for workload 'workloads/workload_read'\n",
      "2016-02-09 15:15:56,919 INFO Connected (version 2.0, client OpenSSH_6.6.1p1)\n",
      "2016-02-09 15:15:57,186 INFO Authentication (publickey) successful!\n",
      "2016-02-09 15:17:59,294 INFO Result: YCSB Client 0.1\n",
      "Command line: -db com.yahoo.ycsb.db.CassandraCQLClient -threads 40 -P workloads/workload_base -P workloads/workload_read -p hosts=172.31.16.165,172.31.26.136,172.31.4.167,172.31.27.251,172.31.6.145 -load\n",
      "Datacenter: datacenter1; Host: /172.31.27.251; Rack: rack1\n",
      "Datacenter: datacenter1; Host: /172.31.16.165; Rack: rack1\n",
      "Datacenter: datacenter1; Host: /172.31.6.145; Rack: rack1\n",
      "Datacenter: datacenter1; Host: /172.31.17.77; Rack: rack1\n",
      "Datacenter: datacenter1; Host: /172.31.26.136; Rack: rack1\n",
      "Datacenter: datacenter1; Host: /172.31.4.167; Rack: rack1\n",
      "[OVERALL], RunTime(ms), 105108.0\n",
      "[OVERALL], Throughput(ops/sec), 9514.023670890892\n",
      "[CLEANUP], Operations, 40.0\n",
      "[CLEANUP], AverageLatency(us), 398.3\n",
      "[CLEANUP], MinLatency(us), 0.0\n",
      "[CLEANUP], MaxLatency(us), 15887.0\n",
      "[CLEANUP], 95thPercentileLatency(us), 3.0\n",
      "[CLEANUP], 99thPercentileLatency(us), 15887.0\n",
      "[INSERT], Operations, 1000000.0\n",
      "[INSERT], AverageLatency(us), 4144.054031\n",
      "[INSERT], MinLatency(us), 359.0\n",
      "[INSERT], MaxLatency(us), 237439.0\n",
      "[INSERT], 95thPercentileLatency(us), 9255.0\n",
      "[INSERT], 99thPercentileLatency(us), 71359.0\n",
      "[INSERT], Return=OK, 1000000\n",
      "\n",
      "2016-02-09 15:17:59,458 INFO Run MAX_READ_6_vs_m4.2xlarge_180 end of 'prepare_benchmark'\n"
     ]
    }
   ],
   "source": [
    "prepare_benchmark(workload=\"workloads/workload_read\", name=state.RUN_NAME)"
   ]
  },
  {
   "cell_type": "code",
   "execution_count": null,
   "metadata": {
    "collapsed": true
   },
   "outputs": [],
   "source": [
    "temp = state.CLUSTER_INSTANCES[-1:]\n",
    "\n",
    "state.CLUSTER_INSTANCES = state.CLUSTER_INSTANCES[:-1]"
   ]
  },
  {
   "cell_type": "code",
   "execution_count": null,
   "metadata": {
    "collapsed": true
   },
   "outputs": [],
   "source": [
    "print(temp)"
   ]
  },
  {
   "cell_type": "code",
   "execution_count": null,
   "metadata": {
    "collapsed": true
   },
   "outputs": [],
   "source": [
    "state.CLUSTER_INSTANCES.append(temp[0])"
   ]
  },
  {
   "cell_type": "code",
   "execution_count": null,
   "metadata": {
    "collapsed": true
   },
   "outputs": [],
   "source": [
    "print(state.CLUSTER_INSTANCES)"
   ]
  },
  {
   "cell_type": "code",
   "execution_count": null,
   "metadata": {
    "collapsed": false,
    "scrolled": true
   },
   "outputs": [],
   "source": [
    "# Baseline benchmark\n",
    "bench = _thread.start_new_thread(start_benchmark, (200, [\"-p\",\"maxexecutiontime=300\"]))\n",
    "sleep(5 * 60)\n",
    "wait_for_finish()\n",
    "gather_results()"
   ]
  },
  {
   "cell_type": "code",
   "execution_count": 7,
   "metadata": {
    "collapsed": false
   },
   "outputs": [
    {
     "name": "stdout",
     "output_type": "stream",
     "text": [
      "2016-02-09 15:21:34,203 INFO Run MAX_READ_AGAIN_6_vs_m4.2xlarge_170 start of 'start_benchmark' args: (170, ['-p', 'maxexecutiontime=300']) kwargs: {}\n",
      "2016-02-09 15:21:34,203 INFO Starting run 'MAX_READ_AGAIN_6_vs_m4.2xlarge_170' with workload 'workloads/workload_read'\n",
      "2016-02-09 15:21:34,520 INFO Connected (version 2.0, client OpenSSH_6.6.1p1)\n",
      "2016-02-09 15:21:34,807 INFO Authentication (publickey) successful!\n",
      "2016-02-09 15:26:34,202 INFO Run MAX_READ_AGAIN_6_vs_m4.2xlarge_170 start of 'wait_for_finish' args: () kwargs: {}\n",
      "2016-02-09 15:26:34,517 INFO Connected (version 2.0, client OpenSSH_6.6.1p1)\n",
      "2016-02-09 15:26:34,775 INFO Authentication (publickey) successful!\n",
      "2016-02-09 15:26:35,600 INFO [chan 1] Opened sftp connection (server version 3)\n",
      "2016-02-09 15:26:46,013 INFO Result: \n",
      "2016-02-09 15:26:46,066 INFO Connected (version 2.0, client OpenSSH_6.6.1p1)\n",
      "2016-02-09 15:26:46,176 INFO Run MAX_READ_AGAIN_6_vs_m4.2xlarge_170 end of 'start_benchmark'\n",
      "2016-02-09 15:26:46,326 INFO Authentication (publickey) successful!\n",
      "2016-02-09 15:26:47,091 INFO [chan 1] Opened sftp connection (server version 3)\n",
      "2016-02-09 15:26:47,428 INFO No more YCSB running!\n",
      "2016-02-09 15:26:47,428 INFO Run MAX_READ_AGAIN_6_vs_m4.2xlarge_170 end of 'wait_for_finish'\n",
      "2016-02-09 15:26:47,429 INFO Run MAX_READ_AGAIN_6_vs_m4.2xlarge_170 start of 'gather_results' args: () kwargs: {}\n",
      "2016-02-09 15:26:47,430 INFO Gathering results into 'C:\\Users\\Jonas\\PycharmProjects\\cassandra-bench\\results\\MAX_READ_AGAIN_6_vs_m4.2xlarge_170'\n",
      "2016-02-09 15:26:47,561 INFO Connected (version 2.0, client OpenSSH_6.6.1p1)\n",
      "2016-02-09 15:26:47,800 INFO Authentication (publickey) successful!\n",
      "2016-02-09 15:26:48,632 INFO [chan 1] Opened sftp connection (server version 3)\n",
      "2016-02-09 15:26:48,858 INFO Connecting to instance 0 i-419d10fd for results\n",
      "2016-02-09 15:26:49,015 INFO Connected (version 2.0, client OpenSSH_6.6.1p1)\n",
      "2016-02-09 15:26:49,223 INFO Authentication (publickey) successful!\n",
      "2016-02-09 15:26:50,333 INFO [chan 1] Opened sftp connection (server version 3)\n",
      "2016-02-09 15:26:51,619 INFO Connecting to instance 1 i-1d9c11a1 for results\n",
      "2016-02-09 15:26:51,791 INFO Connected (version 2.0, client OpenSSH_6.6.1p1)\n",
      "2016-02-09 15:26:52,027 INFO Authentication (publickey) successful!\n",
      "2016-02-09 15:26:52,694 INFO [chan 1] Opened sftp connection (server version 3)\n",
      "2016-02-09 15:26:53,445 INFO Connecting to instance 2 i-393ceb84 for results\n",
      "2016-02-09 15:26:53,624 INFO Connected (version 2.0, client OpenSSH_6.6.1p1)\n",
      "2016-02-09 15:26:53,823 INFO Authentication (publickey) successful!\n",
      "2016-02-09 15:26:54,481 INFO [chan 1] Opened sftp connection (server version 3)\n",
      "2016-02-09 15:26:55,374 INFO Connecting to instance 3 i-759c11c9 for results\n",
      "2016-02-09 15:26:55,556 INFO Connected (version 2.0, client OpenSSH_6.6.1p1)\n",
      "2016-02-09 15:26:55,769 INFO Authentication (publickey) successful!\n",
      "2016-02-09 15:26:56,437 INFO [chan 1] Opened sftp connection (server version 3)\n",
      "2016-02-09 15:26:57,190 INFO Connecting to instance 4 i-fd3ceb40 for results\n",
      "2016-02-09 15:26:57,335 INFO Connected (version 2.0, client OpenSSH_6.6.1p1)\n",
      "2016-02-09 15:26:57,545 INFO Authentication (publickey) successful!\n",
      "2016-02-09 15:26:58,207 INFO [chan 1] Opened sftp connection (server version 3)\n",
      "2016-02-09 15:26:59,115 INFO Connecting to instance 5 i-769c11ca for results\n",
      "2016-02-09 15:26:59,312 INFO Connected (version 2.0, client OpenSSH_6.6.1p1)\n",
      "2016-02-09 15:26:59,551 INFO Authentication (publickey) successful!\n",
      "2016-02-09 15:27:00,216 INFO [chan 1] Opened sftp connection (server version 3)\n",
      "2016-02-09 15:27:01,003 INFO Run MAX_READ_AGAIN_6_vs_m4.2xlarge_170 end of 'gather_results'\n",
      "2016-02-09 15:28:01,004 INFO Run MAX_READ_AGAIN_6_vs_m4.2xlarge_180 start of 'start_benchmark' args: (180, ['-p', 'maxexecutiontime=300']) kwargs: {}\n",
      "2016-02-09 15:28:01,004 INFO Starting run 'MAX_READ_AGAIN_6_vs_m4.2xlarge_180' with workload 'workloads/workload_read'\n",
      "2016-02-09 15:28:01,127 INFO Connected (version 2.0, client OpenSSH_6.6.1p1)\n",
      "2016-02-09 15:28:01,370 INFO Authentication (publickey) successful!\n",
      "2016-02-09 15:33:01,004 INFO Run MAX_READ_AGAIN_6_vs_m4.2xlarge_180 start of 'wait_for_finish' args: () kwargs: {}\n",
      "2016-02-09 15:33:01,336 INFO Connected (version 2.0, client OpenSSH_6.6.1p1)\n",
      "2016-02-09 15:33:01,624 INFO Authentication (publickey) successful!\n",
      "2016-02-09 15:33:02,498 INFO [chan 1] Opened sftp connection (server version 3)\n",
      "2016-02-09 15:33:12,733 INFO Result: \n",
      "2016-02-09 15:33:12,911 INFO Run MAX_READ_AGAIN_6_vs_m4.2xlarge_180 end of 'start_benchmark'\n",
      "2016-02-09 15:33:12,974 INFO Connected (version 2.0, client OpenSSH_6.6.1p1)\n",
      "2016-02-09 15:33:13,261 INFO Authentication (publickey) successful!\n",
      "2016-02-09 15:33:14,080 INFO [chan 1] Opened sftp connection (server version 3)\n",
      "2016-02-09 15:33:14,429 INFO No more YCSB running!\n",
      "2016-02-09 15:33:14,430 INFO Run MAX_READ_AGAIN_6_vs_m4.2xlarge_180 end of 'wait_for_finish'\n",
      "2016-02-09 15:33:14,431 INFO Run MAX_READ_AGAIN_6_vs_m4.2xlarge_180 start of 'gather_results' args: () kwargs: {}\n",
      "2016-02-09 15:33:14,434 INFO Gathering results into 'C:\\Users\\Jonas\\PycharmProjects\\cassandra-bench\\results\\MAX_READ_AGAIN_6_vs_m4.2xlarge_180'\n",
      "2016-02-09 15:33:14,573 INFO Connected (version 2.0, client OpenSSH_6.6.1p1)\n",
      "2016-02-09 15:33:14,841 INFO Authentication (publickey) successful!\n",
      "2016-02-09 15:33:15,714 INFO [chan 1] Opened sftp connection (server version 3)\n",
      "2016-02-09 15:33:15,945 INFO Connecting to instance 0 i-419d10fd for results\n",
      "2016-02-09 15:33:16,128 INFO Connected (version 2.0, client OpenSSH_6.6.1p1)\n",
      "2016-02-09 15:33:16,517 INFO Authentication (publickey) successful!\n",
      "2016-02-09 15:33:17,284 INFO [chan 1] Opened sftp connection (server version 3)\n",
      "2016-02-09 15:33:18,434 INFO Connecting to instance 1 i-1d9c11a1 for results\n",
      "2016-02-09 15:33:18,656 INFO Connected (version 2.0, client OpenSSH_6.6.1p1)\n",
      "2016-02-09 15:33:18,903 INFO Authentication (publickey) successful!\n",
      "2016-02-09 15:33:19,632 INFO [chan 1] Opened sftp connection (server version 3)\n",
      "2016-02-09 15:33:20,558 INFO Connecting to instance 2 i-393ceb84 for results\n",
      "2016-02-09 15:33:20,755 INFO Connected (version 2.0, client OpenSSH_6.6.1p1)\n",
      "2016-02-09 15:33:21,015 INFO Authentication (publickey) successful!\n",
      "2016-02-09 15:33:21,710 INFO [chan 1] Opened sftp connection (server version 3)\n",
      "2016-02-09 15:33:22,837 INFO Connecting to instance 3 i-759c11c9 for results\n",
      "2016-02-09 15:33:23,043 INFO Connected (version 2.0, client OpenSSH_6.6.1p1)\n",
      "2016-02-09 15:33:23,321 INFO Authentication (publickey) successful!\n",
      "2016-02-09 15:33:24,061 INFO [chan 1] Opened sftp connection (server version 3)\n",
      "2016-02-09 15:33:24,921 INFO Connecting to instance 4 i-fd3ceb40 for results\n",
      "2016-02-09 15:33:25,130 INFO Connected (version 2.0, client OpenSSH_6.6.1p1)\n",
      "2016-02-09 15:33:25,399 INFO Authentication (publickey) successful!\n",
      "2016-02-09 15:33:26,098 INFO [chan 1] Opened sftp connection (server version 3)\n",
      "2016-02-09 15:33:27,187 INFO Connecting to instance 5 i-769c11ca for results\n",
      "2016-02-09 15:33:27,385 INFO Connected (version 2.0, client OpenSSH_6.6.1p1)\n",
      "2016-02-09 15:33:27,645 INFO Authentication (publickey) successful!\n",
      "2016-02-09 15:33:28,356 INFO [chan 1] Opened sftp connection (server version 3)\n",
      "2016-02-09 15:33:29,229 INFO Run MAX_READ_AGAIN_6_vs_m4.2xlarge_180 end of 'gather_results'\n",
      "2016-02-09 15:34:29,231 INFO Run MAX_READ_AGAIN_6_vs_m4.2xlarge_190 start of 'start_benchmark' args: (190, ['-p', 'maxexecutiontime=300']) kwargs: {}\n",
      "2016-02-09 15:34:29,231 INFO Starting run 'MAX_READ_AGAIN_6_vs_m4.2xlarge_190' with workload 'workloads/workload_read'\n",
      "2016-02-09 15:34:29,352 INFO Connected (version 2.0, client OpenSSH_6.6.1p1)\n",
      "2016-02-09 15:34:29,557 INFO Authentication (publickey) successful!\n",
      "2016-02-09 15:39:29,231 INFO Run MAX_READ_AGAIN_6_vs_m4.2xlarge_190 start of 'wait_for_finish' args: () kwargs: {}\n",
      "2016-02-09 15:39:29,513 INFO Connected (version 2.0, client OpenSSH_6.6.1p1)\n",
      "2016-02-09 15:39:29,724 INFO Authentication (publickey) successful!\n",
      "2016-02-09 15:39:30,891 INFO [chan 1] Opened sftp connection (server version 3)\n",
      "2016-02-09 15:39:40,393 INFO Result: \n",
      "2016-02-09 15:39:40,556 INFO Run MAX_READ_AGAIN_6_vs_m4.2xlarge_190 end of 'start_benchmark'\n",
      "2016-02-09 15:39:41,361 INFO Connected (version 2.0, client OpenSSH_6.6.1p1)\n",
      "2016-02-09 15:39:41,574 INFO Authentication (publickey) successful!\n",
      "2016-02-09 15:39:42,349 INFO [chan 1] Opened sftp connection (server version 3)\n",
      "2016-02-09 15:39:42,688 INFO No more YCSB running!\n",
      "2016-02-09 15:39:42,689 INFO Run MAX_READ_AGAIN_6_vs_m4.2xlarge_190 end of 'wait_for_finish'\n",
      "2016-02-09 15:39:42,689 INFO Run MAX_READ_AGAIN_6_vs_m4.2xlarge_190 start of 'gather_results' args: () kwargs: {}\n",
      "2016-02-09 15:39:42,690 INFO Gathering results into 'C:\\Users\\Jonas\\PycharmProjects\\cassandra-bench\\results\\MAX_READ_AGAIN_6_vs_m4.2xlarge_190'\n",
      "2016-02-09 15:39:42,817 INFO Connected (version 2.0, client OpenSSH_6.6.1p1)\n",
      "2016-02-09 15:39:43,036 INFO Authentication (publickey) successful!\n",
      "2016-02-09 15:39:43,881 INFO [chan 1] Opened sftp connection (server version 3)\n",
      "2016-02-09 15:39:44,130 INFO Connecting to instance 0 i-419d10fd for results\n",
      "2016-02-09 15:39:44,333 INFO Connected (version 2.0, client OpenSSH_6.6.1p1)\n",
      "2016-02-09 15:39:44,535 INFO Authentication (publickey) successful!\n",
      "2016-02-09 15:39:45,270 INFO [chan 1] Opened sftp connection (server version 3)\n",
      "2016-02-09 15:39:46,420 INFO Connecting to instance 1 i-1d9c11a1 for results\n",
      "2016-02-09 15:39:46,618 INFO Connected (version 2.0, client OpenSSH_6.6.1p1)\n",
      "2016-02-09 15:39:46,831 INFO Authentication (publickey) successful!\n",
      "2016-02-09 15:39:47,811 INFO [chan 1] Opened sftp connection (server version 3)\n",
      "2016-02-09 15:39:49,666 INFO Connecting to instance 2 i-393ceb84 for results\n",
      "2016-02-09 15:39:49,839 INFO Connected (version 2.0, client OpenSSH_6.6.1p1)\n",
      "2016-02-09 15:39:50,065 INFO Authentication (publickey) successful!\n",
      "2016-02-09 15:39:50,728 INFO [chan 1] Opened sftp connection (server version 3)\n",
      "2016-02-09 15:39:51,880 INFO Connecting to instance 3 i-759c11c9 for results\n",
      "2016-02-09 15:39:52,050 INFO Connected (version 2.0, client OpenSSH_6.6.1p1)\n",
      "2016-02-09 15:39:52,256 INFO Authentication (publickey) successful!\n",
      "2016-02-09 15:39:53,547 INFO [chan 1] Opened sftp connection (server version 3)\n",
      "2016-02-09 15:39:54,422 INFO Connecting to instance 4 i-fd3ceb40 for results\n",
      "2016-02-09 15:39:54,576 INFO Connected (version 2.0, client OpenSSH_6.6.1p1)\n",
      "2016-02-09 15:39:55,061 INFO Authentication (publickey) successful!\n",
      "2016-02-09 15:39:55,722 INFO [chan 1] Opened sftp connection (server version 3)\n",
      "2016-02-09 15:39:57,044 INFO Connecting to instance 5 i-769c11ca for results\n",
      "2016-02-09 15:39:57,241 INFO Connected (version 2.0, client OpenSSH_6.6.1p1)\n",
      "2016-02-09 15:39:57,475 INFO Authentication (publickey) successful!\n",
      "2016-02-09 15:39:58,144 INFO [chan 1] Opened sftp connection (server version 3)\n",
      "2016-02-09 15:39:59,074 INFO Run MAX_READ_AGAIN_6_vs_m4.2xlarge_190 end of 'gather_results'\n",
      "2016-02-09 15:40:59,074 INFO Run MAX_READ_AGAIN_6_vs_m4.2xlarge_200 start of 'start_benchmark' args: (200, ['-p', 'maxexecutiontime=300']) kwargs: {}\n",
      "2016-02-09 15:40:59,075 INFO Starting run 'MAX_READ_AGAIN_6_vs_m4.2xlarge_200' with workload 'workloads/workload_read'\n",
      "2016-02-09 15:40:59,221 INFO Connected (version 2.0, client OpenSSH_6.6.1p1)\n",
      "2016-02-09 15:40:59,429 INFO Authentication (publickey) successful!\n",
      "2016-02-09 15:45:59,075 INFO Run MAX_READ_AGAIN_6_vs_m4.2xlarge_200 start of 'wait_for_finish' args: () kwargs: {}\n",
      "2016-02-09 15:45:59,418 INFO Connected (version 2.0, client OpenSSH_6.6.1p1)\n",
      "2016-02-09 15:45:59,669 INFO Authentication (publickey) successful!\n",
      "2016-02-09 15:46:00,863 INFO [chan 1] Opened sftp connection (server version 3)\n",
      "2016-02-09 15:46:11,345 INFO Result: \n",
      "2016-02-09 15:46:11,355 INFO Connected (version 2.0, client OpenSSH_6.6.1p1)\n",
      "2016-02-09 15:46:11,503 INFO Run MAX_READ_AGAIN_6_vs_m4.2xlarge_200 end of 'start_benchmark'\n",
      "2016-02-09 15:46:11,623 INFO Authentication (publickey) successful!\n",
      "2016-02-09 15:46:12,463 INFO [chan 1] Opened sftp connection (server version 3)\n",
      "2016-02-09 15:46:12,838 INFO No more YCSB running!\n",
      "2016-02-09 15:46:12,840 INFO Run MAX_READ_AGAIN_6_vs_m4.2xlarge_200 end of 'wait_for_finish'\n",
      "2016-02-09 15:46:12,841 INFO Run MAX_READ_AGAIN_6_vs_m4.2xlarge_200 start of 'gather_results' args: () kwargs: {}\n",
      "2016-02-09 15:46:12,844 INFO Gathering results into 'C:\\Users\\Jonas\\PycharmProjects\\cassandra-bench\\results\\MAX_READ_AGAIN_6_vs_m4.2xlarge_200'\n",
      "2016-02-09 15:46:12,980 INFO Connected (version 2.0, client OpenSSH_6.6.1p1)\n",
      "2016-02-09 15:46:13,270 INFO Authentication (publickey) successful!\n",
      "2016-02-09 15:46:14,176 INFO [chan 1] Opened sftp connection (server version 3)\n",
      "2016-02-09 15:46:14,435 INFO Connecting to instance 0 i-419d10fd for results\n",
      "2016-02-09 15:46:14,658 INFO Connected (version 2.0, client OpenSSH_6.6.1p1)\n",
      "2016-02-09 15:46:14,917 INFO Authentication (publickey) successful!\n",
      "2016-02-09 15:46:15,640 INFO [chan 1] Opened sftp connection (server version 3)\n",
      "2016-02-09 15:46:16,839 INFO Connecting to instance 1 i-1d9c11a1 for results\n",
      "2016-02-09 15:46:17,023 INFO Connected (version 2.0, client OpenSSH_6.6.1p1)\n",
      "2016-02-09 15:46:17,595 INFO Authentication (publickey) successful!\n",
      "2016-02-09 15:46:18,565 INFO [chan 1] Opened sftp connection (server version 3)\n",
      "2016-02-09 15:46:20,727 INFO Connecting to instance 2 i-393ceb84 for results\n",
      "2016-02-09 15:46:20,940 INFO Connected (version 2.0, client OpenSSH_6.6.1p1)\n",
      "2016-02-09 15:46:21,211 INFO Authentication (publickey) successful!\n",
      "2016-02-09 15:46:21,918 INFO [chan 1] Opened sftp connection (server version 3)\n",
      "2016-02-09 15:46:23,084 INFO Connecting to instance 3 i-759c11c9 for results\n",
      "2016-02-09 15:46:23,282 INFO Connected (version 2.0, client OpenSSH_6.6.1p1)\n",
      "2016-02-09 15:46:23,566 INFO Authentication (publickey) successful!\n",
      "2016-02-09 15:46:24,320 INFO [chan 1] Opened sftp connection (server version 3)\n",
      "2016-02-09 15:46:25,434 INFO Connecting to instance 4 i-fd3ceb40 for results\n",
      "2016-02-09 15:46:25,924 INFO Connected (version 2.0, client OpenSSH_6.6.1p1)\n",
      "2016-02-09 15:46:26,161 INFO Authentication (publickey) successful!\n",
      "2016-02-09 15:46:26,889 INFO [chan 1] Opened sftp connection (server version 3)\n",
      "2016-02-09 15:46:27,992 INFO Connecting to instance 5 i-769c11ca for results\n",
      "2016-02-09 15:46:28,155 INFO Connected (version 2.0, client OpenSSH_6.6.1p1)\n",
      "2016-02-09 15:46:28,431 INFO Authentication (publickey) successful!\n",
      "2016-02-09 15:46:29,180 INFO [chan 1] Opened sftp connection (server version 3)\n",
      "2016-02-09 15:46:30,247 INFO Run MAX_READ_AGAIN_6_vs_m4.2xlarge_200 end of 'gather_results'\n",
      "2016-02-09 15:47:30,249 INFO Run MAX_READ_AGAIN_6_vs_m4.2xlarge_210 start of 'start_benchmark' args: (210, ['-p', 'maxexecutiontime=300']) kwargs: {}\n",
      "2016-02-09 15:47:30,250 INFO Starting run 'MAX_READ_AGAIN_6_vs_m4.2xlarge_210' with workload 'workloads/workload_read'\n",
      "2016-02-09 15:47:30,402 INFO Connected (version 2.0, client OpenSSH_6.6.1p1)\n",
      "2016-02-09 15:47:30,674 INFO Authentication (publickey) successful!\n",
      "2016-02-09 15:52:30,249 INFO Run MAX_READ_AGAIN_6_vs_m4.2xlarge_210 start of 'wait_for_finish' args: () kwargs: {}\n",
      "2016-02-09 15:52:30,544 INFO Connected (version 2.0, client OpenSSH_6.6.1p1)\n",
      "2016-02-09 15:52:30,791 INFO Authentication (publickey) successful!\n",
      "2016-02-09 15:52:31,662 INFO [chan 1] Opened sftp connection (server version 3)\n",
      "2016-02-09 15:52:41,777 INFO Result: \n",
      "2016-02-09 15:52:41,937 INFO Run MAX_READ_AGAIN_6_vs_m4.2xlarge_210 end of 'start_benchmark'\n",
      "2016-02-09 15:52:42,122 INFO Connected (version 2.0, client OpenSSH_6.6.1p1)\n",
      "2016-02-09 15:52:42,331 INFO Authentication (publickey) successful!\n",
      "2016-02-09 15:52:43,425 INFO [chan 1] Opened sftp connection (server version 3)\n",
      "2016-02-09 15:52:43,769 INFO No more YCSB running!\n",
      "2016-02-09 15:52:43,770 INFO Run MAX_READ_AGAIN_6_vs_m4.2xlarge_210 end of 'wait_for_finish'\n",
      "2016-02-09 15:52:43,770 INFO Run MAX_READ_AGAIN_6_vs_m4.2xlarge_210 start of 'gather_results' args: () kwargs: {}\n",
      "2016-02-09 15:52:43,771 INFO Gathering results into 'C:\\Users\\Jonas\\PycharmProjects\\cassandra-bench\\results\\MAX_READ_AGAIN_6_vs_m4.2xlarge_210'\n",
      "2016-02-09 15:52:43,911 INFO Connected (version 2.0, client OpenSSH_6.6.1p1)\n",
      "2016-02-09 15:52:44,119 INFO Authentication (publickey) successful!\n",
      "2016-02-09 15:52:44,956 INFO [chan 1] Opened sftp connection (server version 3)\n",
      "2016-02-09 15:52:45,203 INFO Connecting to instance 0 i-419d10fd for results\n",
      "2016-02-09 15:52:45,488 INFO Connected (version 2.0, client OpenSSH_6.6.1p1)\n",
      "2016-02-09 15:52:45,974 INFO Authentication (publickey) successful!\n",
      "2016-02-09 15:52:46,651 INFO [chan 1] Opened sftp connection (server version 3)\n",
      "2016-02-09 15:52:47,871 INFO Connecting to instance 1 i-1d9c11a1 for results\n",
      "2016-02-09 15:52:48,090 INFO Connected (version 2.0, client OpenSSH_6.6.1p1)\n",
      "2016-02-09 15:52:48,310 INFO Authentication (publickey) successful!\n",
      "2016-02-09 15:52:48,982 INFO [chan 1] Opened sftp connection (server version 3)\n",
      "2016-02-09 15:52:50,462 INFO Connecting to instance 2 i-393ceb84 for results\n",
      "2016-02-09 15:52:50,618 INFO Connected (version 2.0, client OpenSSH_6.6.1p1)\n",
      "2016-02-09 15:52:50,837 INFO Authentication (publickey) successful!\n",
      "2016-02-09 15:52:51,506 INFO [chan 1] Opened sftp connection (server version 3)\n",
      "2016-02-09 15:52:52,692 INFO Connecting to instance 3 i-759c11c9 for results\n",
      "2016-02-09 15:52:52,868 INFO Connected (version 2.0, client OpenSSH_6.6.1p1)\n",
      "2016-02-09 15:52:53,117 INFO Authentication (publickey) successful!\n",
      "2016-02-09 15:52:53,817 INFO [chan 1] Opened sftp connection (server version 3)\n",
      "2016-02-09 15:52:55,923 INFO Connecting to instance 4 i-fd3ceb40 for results\n",
      "2016-02-09 15:52:56,087 INFO Connected (version 2.0, client OpenSSH_6.6.1p1)\n",
      "2016-02-09 15:52:56,295 INFO Authentication (publickey) successful!\n",
      "2016-02-09 15:52:56,958 INFO [chan 1] Opened sftp connection (server version 3)\n",
      "2016-02-09 15:52:58,084 INFO Connecting to instance 5 i-769c11ca for results\n",
      "2016-02-09 15:52:58,269 INFO Connected (version 2.0, client OpenSSH_6.6.1p1)\n",
      "2016-02-09 15:52:58,475 INFO Authentication (publickey) successful!\n",
      "2016-02-09 15:52:59,220 INFO [chan 1] Opened sftp connection (server version 3)\n",
      "2016-02-09 15:53:00,500 INFO Run MAX_READ_AGAIN_6_vs_m4.2xlarge_210 end of 'gather_results'\n",
      "2016-02-09 15:54:00,502 INFO Run MAX_READ_AGAIN_6_vs_m4.2xlarge_220 start of 'start_benchmark' args: (220, ['-p', 'maxexecutiontime=300']) kwargs: {}\n",
      "2016-02-09 15:54:00,503 INFO Starting run 'MAX_READ_AGAIN_6_vs_m4.2xlarge_220' with workload 'workloads/workload_read'\n",
      "2016-02-09 15:54:00,629 INFO Connected (version 2.0, client OpenSSH_6.6.1p1)\n",
      "2016-02-09 15:54:01,213 INFO Authentication (publickey) successful!\n",
      "2016-02-09 15:59:00,502 INFO Run MAX_READ_AGAIN_6_vs_m4.2xlarge_220 start of 'wait_for_finish' args: () kwargs: {}\n",
      "2016-02-09 15:59:01,116 INFO Connected (version 2.0, client OpenSSH_6.6.1p1)\n",
      "2016-02-09 15:59:01,364 INFO Authentication (publickey) successful!\n",
      "2016-02-09 15:59:02,183 INFO [chan 1] Opened sftp connection (server version 3)\n",
      "2016-02-09 15:59:12,252 INFO Result: \n",
      "2016-02-09 15:59:12,416 INFO Run MAX_READ_AGAIN_6_vs_m4.2xlarge_220 end of 'start_benchmark'\n",
      "2016-02-09 15:59:12,977 INFO Connected (version 2.0, client OpenSSH_6.6.1p1)\n",
      "2016-02-09 15:59:13,220 INFO Authentication (publickey) successful!\n",
      "2016-02-09 15:59:14,000 INFO [chan 1] Opened sftp connection (server version 3)\n",
      "2016-02-09 15:59:14,345 INFO No more YCSB running!\n",
      "2016-02-09 15:59:14,346 INFO Run MAX_READ_AGAIN_6_vs_m4.2xlarge_220 end of 'wait_for_finish'\n",
      "2016-02-09 15:59:14,346 INFO Run MAX_READ_AGAIN_6_vs_m4.2xlarge_220 start of 'gather_results' args: () kwargs: {}\n",
      "2016-02-09 15:59:14,347 INFO Gathering results into 'C:\\Users\\Jonas\\PycharmProjects\\cassandra-bench\\results\\MAX_READ_AGAIN_6_vs_m4.2xlarge_220'\n",
      "2016-02-09 15:59:14,474 INFO Connected (version 2.0, client OpenSSH_6.6.1p1)\n",
      "2016-02-09 15:59:14,730 INFO Authentication (publickey) successful!\n",
      "2016-02-09 15:59:15,582 INFO [chan 1] Opened sftp connection (server version 3)\n",
      "2016-02-09 15:59:15,829 INFO Connecting to instance 0 i-419d10fd for results\n",
      "2016-02-09 15:59:16,015 INFO Connected (version 2.0, client OpenSSH_6.6.1p1)\n",
      "2016-02-09 15:59:16,263 INFO Authentication (publickey) successful!\n",
      "2016-02-09 15:59:16,922 INFO [chan 1] Opened sftp connection (server version 3)\n",
      "2016-02-09 15:59:18,109 INFO Connecting to instance 1 i-1d9c11a1 for results\n",
      "2016-02-09 15:59:18,291 INFO Connected (version 2.0, client OpenSSH_6.6.1p1)\n",
      "2016-02-09 15:59:18,504 INFO Authentication (publickey) successful!\n",
      "2016-02-09 15:59:19,173 INFO [chan 1] Opened sftp connection (server version 3)\n",
      "2016-02-09 15:59:20,421 INFO Connecting to instance 2 i-393ceb84 for results\n",
      "2016-02-09 15:59:20,642 INFO Connected (version 2.0, client OpenSSH_6.6.1p1)\n",
      "2016-02-09 15:59:20,874 INFO Authentication (publickey) successful!\n",
      "2016-02-09 15:59:21,539 INFO [chan 1] Opened sftp connection (server version 3)\n",
      "2016-02-09 15:59:23,010 INFO Connecting to instance 3 i-759c11c9 for results\n",
      "2016-02-09 15:59:23,195 INFO Connected (version 2.0, client OpenSSH_6.6.1p1)\n",
      "2016-02-09 15:59:23,441 INFO Authentication (publickey) successful!\n",
      "2016-02-09 15:59:24,442 INFO [chan 1] Opened sftp connection (server version 3)\n",
      "2016-02-09 15:59:26,024 INFO Connecting to instance 4 i-fd3ceb40 for results\n",
      "2016-02-09 15:59:26,256 INFO Connected (version 2.0, client OpenSSH_6.6.1p1)\n",
      "2016-02-09 15:59:26,494 INFO Authentication (publickey) successful!\n",
      "2016-02-09 15:59:27,769 INFO [chan 1] Opened sftp connection (server version 3)\n",
      "2016-02-09 15:59:29,321 INFO Connecting to instance 5 i-769c11ca for results\n",
      "2016-02-09 15:59:29,485 INFO Connected (version 2.0, client OpenSSH_6.6.1p1)\n",
      "2016-02-09 15:59:29,736 INFO Authentication (publickey) successful!\n",
      "2016-02-09 15:59:30,408 INFO [chan 1] Opened sftp connection (server version 3)\n",
      "2016-02-09 15:59:31,603 INFO Run MAX_READ_AGAIN_6_vs_m4.2xlarge_220 end of 'gather_results'\n",
      "2016-02-09 16:00:31,604 INFO Run MAX_READ_AGAIN_6_vs_m4.2xlarge_230 start of 'start_benchmark' args: (230, ['-p', 'maxexecutiontime=300']) kwargs: {}\n",
      "2016-02-09 16:00:31,604 INFO Starting run 'MAX_READ_AGAIN_6_vs_m4.2xlarge_230' with workload 'workloads/workload_read'\n",
      "2016-02-09 16:00:31,726 INFO Connected (version 2.0, client OpenSSH_6.6.1p1)\n",
      "2016-02-09 16:00:31,941 INFO Authentication (publickey) successful!\n",
      "2016-02-09 16:05:31,604 INFO Run MAX_READ_AGAIN_6_vs_m4.2xlarge_230 start of 'wait_for_finish' args: () kwargs: {}\n",
      "2016-02-09 16:05:31,783 INFO Connected (version 2.0, client OpenSSH_6.6.1p1)\n",
      "2016-02-09 16:05:32,073 INFO Authentication (publickey) successful!\n",
      "2016-02-09 16:05:32,942 INFO [chan 1] Opened sftp connection (server version 3)\n",
      "2016-02-09 16:05:42,630 INFO Result: \n",
      "2016-02-09 16:05:42,813 INFO Run MAX_READ_AGAIN_6_vs_m4.2xlarge_230 end of 'start_benchmark'\n",
      "2016-02-09 16:05:43,425 INFO Connected (version 2.0, client OpenSSH_6.6.1p1)\n",
      "2016-02-09 16:05:43,703 INFO Authentication (publickey) successful!\n",
      "2016-02-09 16:05:44,822 INFO [chan 1] Opened sftp connection (server version 3)\n",
      "2016-02-09 16:05:45,173 INFO No more YCSB running!\n",
      "2016-02-09 16:05:45,175 INFO Run MAX_READ_AGAIN_6_vs_m4.2xlarge_230 end of 'wait_for_finish'\n",
      "2016-02-09 16:05:45,176 INFO Run MAX_READ_AGAIN_6_vs_m4.2xlarge_230 start of 'gather_results' args: () kwargs: {}\n",
      "2016-02-09 16:05:45,180 INFO Gathering results into 'C:\\Users\\Jonas\\PycharmProjects\\cassandra-bench\\results\\MAX_READ_AGAIN_6_vs_m4.2xlarge_230'\n",
      "2016-02-09 16:05:45,314 INFO Connected (version 2.0, client OpenSSH_6.6.1p1)\n",
      "2016-02-09 16:05:45,585 INFO Authentication (publickey) successful!\n",
      "2016-02-09 16:05:46,482 INFO [chan 1] Opened sftp connection (server version 3)\n",
      "2016-02-09 16:05:46,741 INFO Connecting to instance 0 i-419d10fd for results\n",
      "2016-02-09 16:05:46,908 INFO Connected (version 2.0, client OpenSSH_6.6.1p1)\n",
      "2016-02-09 16:05:47,181 INFO Authentication (publickey) successful!\n",
      "2016-02-09 16:05:47,905 INFO [chan 1] Opened sftp connection (server version 3)\n",
      "2016-02-09 16:05:49,270 INFO Connecting to instance 1 i-1d9c11a1 for results\n",
      "2016-02-09 16:05:49,460 INFO Connected (version 2.0, client OpenSSH_6.6.1p1)\n",
      "2016-02-09 16:05:49,741 INFO Authentication (publickey) successful!\n",
      "2016-02-09 16:05:50,465 INFO [chan 1] Opened sftp connection (server version 3)\n",
      "2016-02-09 16:05:51,908 INFO Connecting to instance 2 i-393ceb84 for results\n",
      "2016-02-09 16:05:52,105 INFO Connected (version 2.0, client OpenSSH_6.6.1p1)\n",
      "2016-02-09 16:05:52,382 INFO Authentication (publickey) successful!\n",
      "2016-02-09 16:05:53,098 INFO [chan 1] Opened sftp connection (server version 3)\n",
      "2016-02-09 16:05:54,419 INFO Connecting to instance 3 i-759c11c9 for results\n",
      "2016-02-09 16:05:54,606 INFO Connected (version 2.0, client OpenSSH_6.6.1p1)\n",
      "2016-02-09 16:05:54,896 INFO Authentication (publickey) successful!\n",
      "2016-02-09 16:05:55,633 INFO [chan 1] Opened sftp connection (server version 3)\n",
      "2016-02-09 16:05:57,050 INFO Connecting to instance 4 i-fd3ceb40 for results\n",
      "2016-02-09 16:05:57,222 INFO Connected (version 2.0, client OpenSSH_6.6.1p1)\n",
      "2016-02-09 16:05:57,486 INFO Authentication (publickey) successful!\n",
      "2016-02-09 16:05:58,202 INFO [chan 1] Opened sftp connection (server version 3)\n",
      "2016-02-09 16:06:00,972 INFO Connecting to instance 5 i-769c11ca for results\n",
      "2016-02-09 16:06:01,169 INFO Connected (version 2.0, client OpenSSH_6.6.1p1)\n",
      "2016-02-09 16:06:01,457 INFO Authentication (publickey) successful!\n",
      "2016-02-09 16:06:02,206 INFO [chan 1] Opened sftp connection (server version 3)\n",
      "2016-02-09 16:06:03,645 INFO Run MAX_READ_AGAIN_6_vs_m4.2xlarge_230 end of 'gather_results'\n"
     ]
    }
   ],
   "source": [
    "# Max Load benchmark\n",
    "for num in range(7):\n",
    "    num = 170 + num * 10\n",
    "    state.RUN_NAME = \"MAX_READ_AGAIN_6_vs_m4.2xlarge_\" + str(num)\n",
    "    bench = _thread.start_new_thread(start_benchmark, (num, [\"-p\",\"maxexecutiontime=300\"]))\n",
    "    sleep(5 * 60)\n",
    "    wait_for_finish()\n",
    "    gather_results()\n",
    "    # Wait for compaction etc. to finish\n",
    "    sleep(1 * 60)"
   ]
  },
  {
   "cell_type": "code",
   "execution_count": null,
   "metadata": {
    "collapsed": true
   },
   "outputs": [],
   "source": [
    "print(state.CLUSTER_INSTANCES)\n",
    "# Create additional instance\n",
    "create_instances(1, state.CLUSTER_INSTANCES, type=\"i2.xlarge\")\n",
    "print(\"New instance: {0}\".format(state.CLUSTER_INSTANCES[-1:]))"
   ]
  },
  {
   "cell_type": "code",
   "execution_count": null,
   "metadata": {
    "collapsed": true
   },
   "outputs": [],
   "source": [
    "scale_cluster(state.CLUSTER_INSTANCES[-1:])"
   ]
  },
  {
   "cell_type": "code",
   "execution_count": null,
   "metadata": {
    "collapsed": true
   },
   "outputs": [],
   "source": [
    "sleep(5)\n",
    "state.CLUSTER_INSTANCES.append(temp[0])"
   ]
  },
  {
   "cell_type": "code",
   "execution_count": null,
   "metadata": {
    "collapsed": true
   },
   "outputs": [],
   "source": [
    "# Scaling benchmark\n",
    "state.RUN_NAME = \"Scale_SCAN_6_vs_m4.2xlarge_100_QUORUM_WRITE\"\n",
    "bench = _thread.start_new_thread(start_benchmark, (100, []))\n",
    "sleep(3 * 60)\n",
    "scale_cluster(state.CLUSTER_INSTANCES[-1:])\n",
    "wait_for_finish()\n",
    "gather_results()"
   ]
  },
  {
   "cell_type": "code",
   "execution_count": null,
   "metadata": {
    "collapsed": true
   },
   "outputs": [],
   "source": [
    "print(state.SEED_IP)"
   ]
  },
  {
   "cell_type": "code",
   "execution_count": null,
   "metadata": {
    "collapsed": true
   },
   "outputs": [],
   "source": [
    "#Reduce benchmark\n",
    "state.RUN_NAME = \"Reduce_SCAN_6_vs_m4.2xlarge_100_QUORUM_WRITE\"\n",
    "bench = _thread.start_new_thread(start_benchmark, (100, []))\n",
    "sleep(3 * 60)\n",
    "remove_cassandra_instance(state.CLUSTER_INSTANCES[-1])\n",
    "wait_for_finish()\n",
    "gather_results()"
   ]
  },
  {
   "cell_type": "code",
   "execution_count": null,
   "metadata": {
    "collapsed": true
   },
   "outputs": [],
   "source": [
    "#state.RUN_NAME = \"Reduce_READ_MODIFY_WRITE_4_vs_m4.2xlarge_100_2\"\n",
    "wait_for_finish()\n",
    "#gather_results()"
   ]
  },
  {
   "cell_type": "code",
   "execution_count": null,
   "metadata": {
    "collapsed": true
   },
   "outputs": [],
   "source": [
    "gather_results()"
   ]
  },
  {
   "cell_type": "code",
   "execution_count": null,
   "metadata": {
    "collapsed": true
   },
   "outputs": [],
   "source": [
    "cleanup_logs()"
   ]
  },
  {
   "cell_type": "code",
   "execution_count": null,
   "metadata": {
    "collapsed": false
   },
   "outputs": [],
   "source": [
    "terminate_all()"
   ]
  },
  {
   "cell_type": "code",
   "execution_count": 18,
   "metadata": {
    "collapsed": false
   },
   "outputs": [
    {
     "name": "stdout",
     "output_type": "stream",
     "text": [
      "WARNING: Could not match base data_point on line \"MAX_READ_AGAIN_6_vs_m4.2xlarge_2002016-02-09 14:41:15:276 0 sec: 0 operations; est completion in 0 seconds \n",
      "\"\n"
     ]
    }
   ],
   "source": [
    "#plot(\"Scale_SCAN_6_vs_m4.2xlarge_100_QUORUM_WRITE\")\n",
    "plot(\"MAX_READ_AGAIN_6_vs_m4.2xlarge_200\", granularity=10)"
   ]
  },
  {
   "cell_type": "code",
   "execution_count": null,
   "metadata": {
    "collapsed": true
   },
   "outputs": [],
   "source": [
    "from cbench import util\n",
    "\n",
    "for inst in state.CLUSTER_INSTANCES:\n",
    "    util.docker_status(inst)"
   ]
  },
  {
   "cell_type": "code",
   "execution_count": null,
   "metadata": {
    "collapsed": true
   },
   "outputs": [],
   "source": []
  }
 ],
 "metadata": {
  "kernelspec": {
   "display_name": "Python 3",
   "language": "python",
   "name": "python3"
  },
  "language_info": {
   "codemirror_mode": {
    "name": "ipython",
    "version": 3
   },
   "file_extension": ".py",
   "mimetype": "text/x-python",
   "name": "python",
   "nbconvert_exporter": "python",
   "pygments_lexer": "ipython3",
   "version": "3.5.0"
  }
 },
 "nbformat": 4,
 "nbformat_minor": 0
}
